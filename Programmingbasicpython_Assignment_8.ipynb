{
 "cells": [
  {
   "cell_type": "code",
   "execution_count": 19,
   "id": "acb28fb9",
   "metadata": {},
   "outputs": [],
   "source": [
    "#Python Program to Add Two Matrices\n",
    "\n",
    "def addmatrices(A,B):\n",
    "    s= [[0 for x in range (len(B))] for y in range(len(A))]\n",
    "    for i in range(R):\n",
    "        for j in range(C):\n",
    "            s[i][j]=A[i][j]+B[i][j]\n",
    "    return s\n",
    "\n",
    "    "
   ]
  },
  {
   "cell_type": "code",
   "execution_count": 20,
   "id": "f8221d7b",
   "metadata": {},
   "outputs": [
    {
     "name": "stdout",
     "output_type": "stream",
     "text": [
      "Enter the dim of matrices A and B (row,col) 2,2\n",
      "1\n",
      "1\n",
      "1\n",
      "1\n",
      "1\n",
      "1\n",
      "1\n",
      "1\n"
     ]
    }
   ],
   "source": [
    "R,C=map(int,input(\"Enter the dim of matrices A and B (row,col) \").split(\",\"))\n",
    "\n",
    "A = [[int(input()) for x in range (C)] for y in range(R)]\n",
    "B = [[int(input()) for x in range (C)] for y in range(R)]\n",
    "#S= [[0 for x in range (C)] for y in range(R)]"
   ]
  },
  {
   "cell_type": "code",
   "execution_count": 22,
   "id": "928c0865",
   "metadata": {},
   "outputs": [
    {
     "name": "stdout",
     "output_type": "stream",
     "text": [
      "Sum of two arrays A and B is [[2, 2], [2, 2]]\n"
     ]
    }
   ],
   "source": [
    "print(f'Sum of two arrays A and B is {addmatrices(A,B)}')"
   ]
  },
  {
   "cell_type": "code",
   "execution_count": 34,
   "id": "9bee5f48",
   "metadata": {},
   "outputs": [],
   "source": [
    "#Python Program to Multiply Two Matrices\n",
    "\n",
    "def multiplymatrices(A,B):\n",
    "    s= [[0 for x in range (len(B[0]))] for y in range(len(A))]\n",
    "    try:\n",
    "        for i in range(len(A)):\n",
    "            for j in range(len(B[0])):\n",
    "                for k in range(len(B)):\n",
    "                    s[i][j]+=A[i][k]*B[k][j]\n",
    "    except Exception as e:\n",
    "        print(\"There is an error \", e)\n",
    "        \n",
    "    else:\n",
    "        return s\n",
    "\n"
   ]
  },
  {
   "cell_type": "code",
   "execution_count": 38,
   "id": "783d3190",
   "metadata": {},
   "outputs": [
    {
     "name": "stdout",
     "output_type": "stream",
     "text": [
      "Enter the dim of matrix A  (row,col) 2,2\n",
      "Enter the dim of matrix B  (row,col) 2,2\n",
      "Enter elements of matrix A\n",
      "12\n",
      "13\n",
      "14\n",
      "15\n",
      "Enter elements of matrix B\n",
      "1\n",
      "0\n",
      "0\n",
      "1\n",
      "The result is [[12, 13], [14, 15]]\n"
     ]
    }
   ],
   "source": [
    "Ra,Ca=map(int,input(\"Enter the dim of matrix A  (row,col) \").split(\",\"))\n",
    "Rb,Cb=map(int,input(\"Enter the dim of matrix B  (row,col) \").split(\",\"))\n",
    "print(\"Enter elements of matrix A\")\n",
    "A = [[int(input()) for x in range (Ca)] for y in range(Ra)]\n",
    "print(\"Enter elements of matrix B\")\n",
    "B = [[int(input()) for x in range (Cb)] for y in range(Rb)]\n",
    "\n",
    "print(\"The result is\",multiplymatrices(A,B))"
   ]
  },
  {
   "cell_type": "code",
   "execution_count": 61,
   "id": "a0c6214d",
   "metadata": {},
   "outputs": [],
   "source": [
    "#Python Program to Transpose a Matrix\n",
    "\n",
    "def Transpos(A):\n",
    "    S = [[ 0 for x in range (len(A))] for y in range(len(A[0]))]\n",
    "    #print(S)\n",
    "    S = [[ A[x][y] for x in range (len(A))] for y in range(len(A[0]))]\n",
    "    '''for i in range(len(A[0])):\n",
    "        for j in range(len(A)):\n",
    "            S[i][j]=A[j][i]'''\n",
    "    \n",
    "    return S\n",
    "    \n",
    "\n",
    "\n",
    "\n"
   ]
  },
  {
   "cell_type": "code",
   "execution_count": 57,
   "id": "5265d3c7",
   "metadata": {},
   "outputs": [
    {
     "name": "stdout",
     "output_type": "stream",
     "text": [
      "Enter the dim of matrix A  (row,col) 2,3\n",
      "Enter elements of matrix A\n",
      "1\n",
      "2\n",
      "3\n",
      "4\n",
      "5\n",
      "6\n"
     ]
    }
   ],
   "source": [
    "R,C=map(int,input(\"Enter the dim of matrix A  (row,col) \").split(\",\"))\n",
    "print(\"Enter elements of matrix A\")\n",
    "A = [[int(input()) for x in range (C)] for y in range(R)]"
   ]
  },
  {
   "cell_type": "code",
   "execution_count": 63,
   "id": "3d9de3ae",
   "metadata": {},
   "outputs": [
    {
     "name": "stdout",
     "output_type": "stream",
     "text": [
      "Transpose of the matrix A is  [[1, 4], [2, 5], [3, 6]]\n"
     ]
    }
   ],
   "source": [
    "print(\"Transpose of the matrix A is \",Transpos(A))"
   ]
  },
  {
   "cell_type": "code",
   "execution_count": 78,
   "id": "60988298",
   "metadata": {},
   "outputs": [
    {
     "name": "stdout",
     "output_type": "stream",
     "text": [
      "The sorted list is  ['cat', 'dog', 'mickey', 'mouse', 'rat', 'zebra']\n"
     ]
    }
   ],
   "source": [
    "#Python Program to Sort Words in Alphabetic Order\n",
    "l=[\"zebra\",\"mickey\",\"cat\",'mouse','dog','rat']\n",
    "print(\"The sorted list is \",sorted(l))\n"
   ]
  },
  {
   "cell_type": "code",
   "execution_count": 74,
   "id": "67cf08ef",
   "metadata": {},
   "outputs": [
    {
     "name": "stdout",
     "output_type": "stream",
     "text": [
      "String before removing punctuation marks--> Hello!!, --world@#$\n",
      "String after removing punctuation marks--> Hello world\n"
     ]
    }
   ],
   "source": [
    "#Python Program to Remove Punctuation From a String\n",
    "import string\n",
    "strin=\"Hello!!, --world@#$\"\n",
    "print(f'String before removing punctuation marks--> {strin}')\n",
    "for i in strin:\n",
    "    if i in string.punctuation:\n",
    "        strin=strin.replace(i,\"\")\n",
    "print(f'String after removing punctuation marks--> {strin}')\n",
    "    "
   ]
  },
  {
   "cell_type": "code",
   "execution_count": null,
   "id": "e1d8e869",
   "metadata": {},
   "outputs": [],
   "source": []
  }
 ],
 "metadata": {
  "kernelspec": {
   "display_name": "Python 3 (ipykernel)",
   "language": "python",
   "name": "python3"
  },
  "language_info": {
   "codemirror_mode": {
    "name": "ipython",
    "version": 3
   },
   "file_extension": ".py",
   "mimetype": "text/x-python",
   "name": "python",
   "nbconvert_exporter": "python",
   "pygments_lexer": "ipython3",
   "version": "3.9.7"
  }
 },
 "nbformat": 4,
 "nbformat_minor": 5
}
