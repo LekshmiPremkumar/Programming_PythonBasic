{
 "cells": [
  {
   "cell_type": "code",
   "execution_count": 9,
   "id": "98b851eb",
   "metadata": {},
   "outputs": [],
   "source": [
    "#Define a class with a generator which can iterate the numbers, which are divisible by\n",
    "#7, between a given range 0 and n.\n",
    "\n",
    "class gen:\n",
    "    def div7(self,n):\n",
    "        self.n=n\n",
    "        for i in range(self.n):\n",
    "            if i %7==0:\n",
    "                yield(i)\n",
    "    \n",
    "        \n"
   ]
  },
  {
   "cell_type": "code",
   "execution_count": 12,
   "id": "555bc4f4",
   "metadata": {},
   "outputs": [
    {
     "name": "stdout",
     "output_type": "stream",
     "text": [
      "0\n",
      "7\n",
      "14\n",
      "21\n",
      "28\n",
      "35\n",
      "42\n",
      "49\n",
      "56\n",
      "63\n",
      "70\n",
      "77\n",
      "84\n",
      "91\n",
      "98\n"
     ]
    }
   ],
   "source": [
    "table7=gen()\n",
    "for i in table7.div7(100):\n",
    "    print(i)"
   ]
  },
  {
   "cell_type": "code",
   "execution_count": 17,
   "id": "3e6443bb",
   "metadata": {},
   "outputs": [],
   "source": [
    "#Write a program to compute the frequency of the words from the input. The output\n",
    "#should output after sorting the key alphanumerically.\n",
    "\n",
    "def wordfreq(n):\n",
    "    l=n.split(\" \")\n",
    "    d={}\n",
    "    for i in l:\n",
    "        if i in d:\n",
    "            d[i]+=1\n",
    "        else:\n",
    "            d[i]=1\n",
    "    keys=list(d.keys())\n",
    "    keys=sorted(keys)\n",
    "    for i in keys:\n",
    "        print(f'{i} : {d[i]}')"
   ]
  },
  {
   "cell_type": "code",
   "execution_count": 19,
   "id": "bc8ab938",
   "metadata": {},
   "outputs": [
    {
     "name": "stdout",
     "output_type": "stream",
     "text": [
      "The output is\n",
      "\n",
      "2 : 2\n",
      "3 : 1\n",
      "3? : 1\n",
      "New : 1\n",
      "Python : 5\n",
      "Read : 1\n",
      "and : 1\n",
      "between : 1\n",
      "choosing : 1\n",
      "or : 2\n",
      "to : 1\n"
     ]
    }
   ],
   "source": [
    "n=\"New to Python or choosing between Python 2 and Python 3? Read Python 2 or Python 3\"\n",
    "print(\"The output is\\n\"),\n",
    "wordfreq(n)"
   ]
  },
  {
   "cell_type": "code",
   "execution_count": 22,
   "id": "9487b299",
   "metadata": {},
   "outputs": [],
   "source": [
    "#Define a class Person and its two child classes: Male and Female. All classes have a\n",
    "#method &quot;getGender&quot; which can print &quot;Male&quot; for Male class and &quot;Female&quot; for Female\n",
    "#class.\n",
    "\n",
    "\n",
    "\n",
    "class Person:\n",
    "    def __init__(self,gender):\n",
    "        self.gender=gender\n",
    "    def getGender(self):\n",
    "        print(f\"My gender is {self.gender}\")\n",
    "    "
   ]
  },
  {
   "cell_type": "code",
   "execution_count": 24,
   "id": "e881fe44",
   "metadata": {},
   "outputs": [],
   "source": [
    "Male=Person(\"male\")\n",
    "Female=Person(\"female\")"
   ]
  },
  {
   "cell_type": "code",
   "execution_count": 25,
   "id": "9bdfc135",
   "metadata": {},
   "outputs": [
    {
     "name": "stdout",
     "output_type": "stream",
     "text": [
      "My gender is male\n"
     ]
    }
   ],
   "source": [
    "Male.getGender()"
   ]
  },
  {
   "cell_type": "code",
   "execution_count": 26,
   "id": "8f960838",
   "metadata": {},
   "outputs": [
    {
     "name": "stdout",
     "output_type": "stream",
     "text": [
      "My gender is female\n"
     ]
    }
   ],
   "source": [
    "Female.getGender()"
   ]
  },
  {
   "cell_type": "code",
   "execution_count": 39,
   "id": "23549013",
   "metadata": {},
   "outputs": [
    {
     "name": "stdout",
     "output_type": "stream",
     "text": [
      "I play Hockey\n",
      "I play Football\n",
      "I love Hockey\n",
      "I love Football\n",
      "You play Hockey\n",
      "You play Football\n",
      "You love Hockey\n",
      "You love Football\n"
     ]
    }
   ],
   "source": [
    "#Please write a program to generate all sentences where subject is in [&quot;I&quot;, &quot;You&quot;] and\n",
    "#verb is in [Play;, &quot;Love&quot;] and the object is in [&quot;Hockey&quot;,&quot;Football&quot;].\n",
    "import random\n",
    "sub=[\"I\",\"You\"]\n",
    "verb=[\"play\",\"love\"]\n",
    "objct=[\"Hockey\",\"Football\"]\n",
    "\n",
    "\n",
    "for i in sub:\n",
    "    for j in verb:\n",
    "        for k in objct:\n",
    "            print(i+\" \"+j+\" \"+k)\n",
    "\n"
   ]
  },
  {
   "cell_type": "code",
   "execution_count": null,
   "id": "f7856354",
   "metadata": {},
   "outputs": [],
   "source": [
    "#Please write a program to compress and decompress the string &quot;hello world!hello\n",
    "#world!hello world!hello world!&quot;\n",
    "\n",
    "\n"
   ]
  },
  {
   "cell_type": "code",
   "execution_count": 65,
   "id": "563c6dc5",
   "metadata": {},
   "outputs": [],
   "source": [
    "#Please write a binary search function which searches an item in a sorted list. The\n",
    "#function should return the index of element to be searched in the list.\n",
    "\n",
    "\n",
    "def BS(A,key,l,r):\n",
    "    i=int(len(A)//2)\n",
    "    \n",
    "    if l<=r:\n",
    "        i=l+int((r-l)/2)\n",
    "        \n",
    "        if A[i]==key:\n",
    "            return i\n",
    "        else:\n",
    "            if A[i]>key:\n",
    "                return BS(A,key,l,i-1)\n",
    "            else:\n",
    "                return BS(A,key,i+1,r)\n",
    "    else:\n",
    "        return \"The number is not present\"\n",
    "        \n",
    "        \n",
    "    \n",
    "    "
   ]
  },
  {
   "cell_type": "code",
   "execution_count": 68,
   "id": "335dfbd8",
   "metadata": {},
   "outputs": [
    {
     "name": "stdout",
     "output_type": "stream",
     "text": [
      "Enter the number to search 15\n",
      "Searching the index of 15 in A-- 4\n"
     ]
    }
   ],
   "source": [
    "A=[1,2,3,14,15,55,66]#sorted list\n",
    "key=int(input(\"Enter the number to search \"))\n",
    "print(f'Searching the index of {key} in A-- {BS(A,key,0,len(A))}')"
   ]
  },
  {
   "cell_type": "code",
   "execution_count": null,
   "id": "8f2f6eee",
   "metadata": {},
   "outputs": [],
   "source": [
    "\n",
    "\n"
   ]
  }
 ],
 "metadata": {
  "kernelspec": {
   "display_name": "Python 3 (ipykernel)",
   "language": "python",
   "name": "python3"
  },
  "language_info": {
   "codemirror_mode": {
    "name": "ipython",
    "version": 3
   },
   "file_extension": ".py",
   "mimetype": "text/x-python",
   "name": "python",
   "nbconvert_exporter": "python",
   "pygments_lexer": "ipython3",
   "version": "3.9.7"
  }
 },
 "nbformat": 4,
 "nbformat_minor": 5
}
