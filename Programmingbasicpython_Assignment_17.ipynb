{
 "cells": [
  {
   "cell_type": "code",
   "execution_count": 3,
   "id": "7c0e3d4f",
   "metadata": {},
   "outputs": [],
   "source": [
    "#Create a function that takes three arguments a, b, c and returns the sum of the\n",
    "#numbers that are evenly divided by c from the range a, b inclusive.\n",
    "\n",
    "def evenly_divisible(a,b,c):\n",
    "    s=0\n",
    "    for i in range(a,b+1):\n",
    "        if i%c==0:\n",
    "            s+=i\n",
    "    return s"
   ]
  },
  {
   "cell_type": "code",
   "execution_count": 6,
   "id": "352d2aaa",
   "metadata": {},
   "outputs": [
    {
     "name": "stdout",
     "output_type": "stream",
     "text": [
      "0\n",
      "30\n",
      "18\n"
     ]
    }
   ],
   "source": [
    "print(evenly_divisible(1, 10, 20))\n",
    "print(evenly_divisible(1, 10, 2))\n",
    "print(evenly_divisible(1, 10, 3))"
   ]
  },
  {
   "cell_type": "code",
   "execution_count": 10,
   "id": "1da0e126",
   "metadata": {},
   "outputs": [],
   "source": [
    "#correct_signs(13>44>33>1) ➞ False\n",
    "\n",
    "def correct_signs(s):\n",
    "    l=list(s)\n",
    "    k=[]\n",
    "    y=\"\"\n",
    "    for i in l:\n",
    "        if i.isnumeric():\n",
    "            y=y+i\n",
    "        else:\n",
    "            k.append(int(y))\n",
    "            k.append(i)\n",
    "            y=\"\"\n",
    "    return k\n",
    "            \n",
    "    \n",
    "\n",
    "\n"
   ]
  },
  {
   "cell_type": "code",
   "execution_count": 29,
   "id": "be6f2111",
   "metadata": {},
   "outputs": [],
   "source": [
    "u=correct_signs(\"13>44>33>1\")"
   ]
  },
  {
   "cell_type": "code",
   "execution_count": 33,
   "id": "284a4f9a",
   "metadata": {},
   "outputs": [
    {
     "name": "stdout",
     "output_type": "stream",
     "text": [
      ">\n",
      ">\n",
      ">\n"
     ]
    }
   ],
   "source": [
    "for i in range(len(u)):\n",
    "    if type(u[i])==str:\n",
    "        print(u[i])\n",
    "        u[i]=ord(u[i])\n",
    "    "
   ]
  },
  {
   "cell_type": "code",
   "execution_count": 43,
   "id": "46203804",
   "metadata": {},
   "outputs": [],
   "source": [
    "#Create a function that replaces all the vowels in a string with a specified character.\n",
    "\n",
    "def replacevowels(s,n):\n",
    "    l=list(s)\n",
    "    for i in range(len(l)):\n",
    "        if l[i] in [\"a\",\"e\",\"i\",\"o\",\"u\"]:\n",
    "            l[i]=n\n",
    "    return (\"\").join(l)"
   ]
  },
  {
   "cell_type": "code",
   "execution_count": 44,
   "id": "8c54e5b4",
   "metadata": {},
   "outputs": [
    {
     "data": {
      "text/plain": [
       "'th# ##rdv#rk'"
      ]
     },
     "execution_count": 44,
     "metadata": {},
     "output_type": "execute_result"
    }
   ],
   "source": [
    "replacevowels(\"the aardvark\", \"#\")"
   ]
  },
  {
   "cell_type": "code",
   "execution_count": 45,
   "id": "4704cb60",
   "metadata": {},
   "outputs": [],
   "source": [
    "#Write a function that calculates the factorial of a number recursively.\n",
    "\n",
    "def fact(n):\n",
    "    \n",
    "    if n==0:\n",
    "        return 1\n",
    "    if n==1:\n",
    "        return 1\n",
    "    return n*fact(n-1)"
   ]
  },
  {
   "cell_type": "code",
   "execution_count": 46,
   "id": "b5295d1e",
   "metadata": {},
   "outputs": [
    {
     "data": {
      "text/plain": [
       "120"
      ]
     },
     "execution_count": 46,
     "metadata": {},
     "output_type": "execute_result"
    }
   ],
   "source": [
    "fact(5)"
   ]
  },
  {
   "cell_type": "code",
   "execution_count": 51,
   "id": "6984e7ec",
   "metadata": {},
   "outputs": [],
   "source": [
    "#Hamming distance is the number of characters that differ between two strings.\n",
    "\n",
    "def hammingdist(s1,s2):\n",
    "    if len(s1)!=len(s2):\n",
    "        return(\"string lengths mismatch\")\n",
    "    dist=0\n",
    "    for i in range(len(s1)):\n",
    "        if s1[i]!=s2[i]:\n",
    "            dist+=1\n",
    "    return dist"
   ]
  },
  {
   "cell_type": "code",
   "execution_count": 52,
   "id": "8d3aaae1",
   "metadata": {},
   "outputs": [
    {
     "data": {
      "text/plain": [
       "1"
      ]
     },
     "execution_count": 52,
     "metadata": {},
     "output_type": "execute_result"
    }
   ],
   "source": [
    "hammingdist(\"strong\",\"strung\")"
   ]
  },
  {
   "cell_type": "code",
   "execution_count": null,
   "id": "c2cd7625",
   "metadata": {},
   "outputs": [],
   "source": []
  }
 ],
 "metadata": {
  "kernelspec": {
   "display_name": "Python 3 (ipykernel)",
   "language": "python",
   "name": "python3"
  },
  "language_info": {
   "codemirror_mode": {
    "name": "ipython",
    "version": 3
   },
   "file_extension": ".py",
   "mimetype": "text/x-python",
   "name": "python",
   "nbconvert_exporter": "python",
   "pygments_lexer": "ipython3",
   "version": "3.9.7"
  }
 },
 "nbformat": 4,
 "nbformat_minor": 5
}
