{
 "cells": [
  {
   "cell_type": "code",
   "execution_count": 1,
   "id": "247d2d24",
   "metadata": {},
   "outputs": [
    {
     "name": "stdout",
     "output_type": "stream",
     "text": [
      "Hello Python\n"
     ]
    }
   ],
   "source": [
    "#Program to print Hello Python\n",
    "\n",
    "print(\"Hello Python\")"
   ]
  },
  {
   "cell_type": "code",
   "execution_count": 7,
   "id": "a561010b",
   "metadata": {},
   "outputs": [
    {
     "name": "stdout",
     "output_type": "stream",
     "text": [
      "Enter two numbers with a coma as separator4,0\n",
      "Result of the addition of the two numbers are  4\n",
      "There is an issue division by zero\n"
     ]
    }
   ],
   "source": [
    "#Program to do arithmetical operations addition and division\n",
    "\n",
    "a,b=map(int,input(\"Enter two numbers with a coma as separator\").split(\",\"))\n",
    "add=a+b\n",
    "\n",
    "print(\"Result of the addition of the two numbers are \",add)\n",
    "try:\n",
    "    div=a/b\n",
    "    print(\"Result of the division of the two numbers are \",div)\n",
    "except Exception as e:\n",
    "    print(\"There is an issue :- \",e)\n",
    "    "
   ]
  },
  {
   "cell_type": "code",
   "execution_count": 11,
   "id": "9f0397d3",
   "metadata": {},
   "outputs": [
    {
     "name": "stdout",
     "output_type": "stream",
     "text": [
      "Enter base and height of the triangle with a coma as separator3,6\n",
      "Area of the triangle is  9.0\n"
     ]
    }
   ],
   "source": [
    "#Program to find area of a triangle\n",
    "def areaoftriangle():\n",
    "    a,b=map(int,input(\"Enter base and height of the triangle with a coma as separator\").split(\",\"))\n",
    "    area=0.5*a*b\n",
    "    print(\"Area of the triangle is \",area)\n",
    "\n",
    "areaoftriangle()\n"
   ]
  },
  {
   "cell_type": "code",
   "execution_count": 27,
   "id": "60fc7bde",
   "metadata": {},
   "outputs": [],
   "source": [
    "#program to swap two numbers\n",
    "def swap(a,b):\n",
    "    return b,a"
   ]
  },
  {
   "cell_type": "code",
   "execution_count": 31,
   "id": "9f2ddf11",
   "metadata": {},
   "outputs": [
    {
     "name": "stdout",
     "output_type": "stream",
     "text": [
      "Enter 2 numbers with a coma as separator to swap 6.78,9\n",
      "After swaping a and b are 9.0 and 6.78 respectively\n"
     ]
    }
   ],
   "source": [
    "a,b=map(float,input(\"Enter 2 numbers with a coma as separator to swap \").split(\",\"))\n",
    "k=swap(a,b)\n",
    "print(f'After swaping a and b are {k[0]} and {k[1]} respectively')\n"
   ]
  },
  {
   "cell_type": "code",
   "execution_count": 37,
   "id": "da852359",
   "metadata": {},
   "outputs": [
    {
     "name": "stdout",
     "output_type": "stream",
     "text": [
      "0.46626201278977375\n"
     ]
    }
   ],
   "source": [
    "#To generate a random number\n",
    "import random\n",
    "print(random.random())\n"
   ]
  },
  {
   "cell_type": "code",
   "execution_count": null,
   "id": "966de584",
   "metadata": {},
   "outputs": [],
   "source": []
  },
  {
   "cell_type": "code",
   "execution_count": null,
   "id": "feea54d5",
   "metadata": {},
   "outputs": [],
   "source": []
  },
  {
   "cell_type": "code",
   "execution_count": null,
   "id": "f060de95",
   "metadata": {},
   "outputs": [],
   "source": []
  },
  {
   "cell_type": "code",
   "execution_count": null,
   "id": "82ba225d",
   "metadata": {},
   "outputs": [],
   "source": []
  },
  {
   "cell_type": "code",
   "execution_count": null,
   "id": "a0edce8a",
   "metadata": {},
   "outputs": [],
   "source": []
  },
  {
   "cell_type": "code",
   "execution_count": null,
   "id": "d2b63be6",
   "metadata": {},
   "outputs": [],
   "source": []
  }
 ],
 "metadata": {
  "kernelspec": {
   "display_name": "Python 3 (ipykernel)",
   "language": "python",
   "name": "python3"
  },
  "language_info": {
   "codemirror_mode": {
    "name": "ipython",
    "version": 3
   },
   "file_extension": ".py",
   "mimetype": "text/x-python",
   "name": "python",
   "nbconvert_exporter": "python",
   "pygments_lexer": "ipython3",
   "version": "3.9.7"
  }
 },
 "nbformat": 4,
 "nbformat_minor": 5
}
