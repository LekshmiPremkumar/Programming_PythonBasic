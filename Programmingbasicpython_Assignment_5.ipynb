{
 "cells": [
  {
   "cell_type": "code",
   "execution_count": 75,
   "id": "834ea017",
   "metadata": {},
   "outputs": [],
   "source": [
    "#Python Program to Find LCM\n",
    "\n",
    "def HCF(a,b):\n",
    "    if a == 0:\n",
    "        return b\n",
    "    return HCF(b % a, a)\n",
    "def LCM(a,b):\n",
    "    return (b / HCF(a,b))* a"
   ]
  },
  {
   "cell_type": "code",
   "execution_count": 80,
   "id": "0359e781",
   "metadata": {},
   "outputs": [
    {
     "name": "stdout",
     "output_type": "stream",
     "text": [
      "Enter the numbers15,20\n",
      "The LCM of 15 and 20 is 60.0\n"
     ]
    }
   ],
   "source": [
    "a,b=map(int,input(\"Enter the numbers\").split(\",\"))\n",
    "print(f'The LCM of {a} and {b} is {LCM(15,20)}')"
   ]
  },
  {
   "cell_type": "code",
   "execution_count": 70,
   "id": "889d69ac",
   "metadata": {},
   "outputs": [],
   "source": [
    "#Python Program to Find HCF\n",
    "def HCF(a,b):\n",
    "    if a == 0:\n",
    "        return b\n",
    "    return gcd(b % a, a)\n",
    "\n"
   ]
  },
  {
   "cell_type": "code",
   "execution_count": 81,
   "id": "8f7e31a9",
   "metadata": {},
   "outputs": [
    {
     "name": "stdout",
     "output_type": "stream",
     "text": [
      "Enter the numbers15,20\n",
      "The HCF of 15 and 20 is 5\n"
     ]
    }
   ],
   "source": [
    "a,b=map(int,input(\"Enter the numbers\").split(\",\"))\n",
    "print(f'The HCF of {a} and {b} is {HCF(15,20)}')"
   ]
  },
  {
   "cell_type": "code",
   "execution_count": 37,
   "id": "35551e38",
   "metadata": {},
   "outputs": [
    {
     "name": "stdout",
     "output_type": "stream",
     "text": [
      "Enter the decimal no to convert to binary 12\n",
      "1100\n",
      "Enter the decimal no to convert to octal 255\n",
      "377\n",
      "Enter the decimal no to convert to Hexadecimal 234\n",
      "EA\n"
     ]
    }
   ],
   "source": [
    "#Python Program to Convert Decimal to Binary, Octal and Hexadecimal\n",
    "def binary(n):\n",
    "  if n == 0:\n",
    "    return 0\n",
    "  if n==1:\n",
    "    return 1\n",
    "  else:   \n",
    "    return (n%2 + 10*binary(n//2))\n",
    "\n",
    "n = int(input(\"Enter the decimal no to convert to binary \"))\n",
    "print(binary(n))\n",
    "\n",
    "\n",
    "def Octal(n):\n",
    "  if n in [0,1,2,3,4,5,6,7,8]:\n",
    "    return n\n",
    "\n",
    "  else:   \n",
    "    return (n%8 + 10*Octal(n//8))\n",
    "\n",
    "n = int(input(\"Enter the decimal no to convert to octal \"))\n",
    "print(Octal(n))\n",
    "\n",
    "def Hexadecimal(n):\n",
    "    \n",
    "    dictkey={0:0,1:1,2:2,3:3,4:4,5:5,6:6,7:7,8:8,9:9,10:\"A\",11:\"B\",12:\"C\",13:\"D\",14:\"E\",15:\"F\"}\n",
    "    \n",
    "    s=\"\"\n",
    "    while(n!=0):\n",
    "        s=str(dictkey[n%16])+s\n",
    "        n=n//16\n",
    "        #print(n)\n",
    "    return s\n",
    "\n",
    "n = int(input(\"Enter the decimal no to convert to Hexadecimal \"))\n",
    "print(Hexadecimal(n))\n",
    "    \n"
   ]
  },
  {
   "cell_type": "code",
   "execution_count": 35,
   "id": "aae7eaa2",
   "metadata": {},
   "outputs": [
    {
     "name": "stdout",
     "output_type": "stream",
     "text": [
      "enter the characterf\n",
      "The ASCII value of 'f' is 102\n"
     ]
    }
   ],
   "source": [
    "#Python Program To Find ASCII value of a character\n",
    "\n",
    "y=input(\"enter the character\")\n",
    "print(\"The ASCII value of '\" + y + \"' is\", ord(y))"
   ]
  },
  {
   "cell_type": "code",
   "execution_count": 60,
   "id": "106ea685",
   "metadata": {},
   "outputs": [],
   "source": [
    "#Python Program to Make a Simple Calculator with 4 basic mathematical operations\n",
    "\n",
    "def calculator():\n",
    "    while True:\n",
    "        optn=int(input(\"Enter an operation: Addition:1; Subtraction:2;Multiplication:3;Division:4;Quit:5 \"))\n",
    "        if optn==1:\n",
    "            print(\"\\n****Addition****\")\n",
    "            n=int(input(\"Enter the number of no.s to add \"))\n",
    "            s=0\n",
    "            for i in range(n):\n",
    "                s=s+int(input(\"Enter the number\"))\n",
    "            print(\"The sum of numbers is \",s)\n",
    "        if optn==2:\n",
    "            print(\"\\n****Subtraction****\")\n",
    "            a,b=map(float,input(\"Enter 2 numbers to subtract, a,b\").split(\",\"))\n",
    "            s=a-b\n",
    "            print(\"The result of subtraction of 2 numbers is \",s)\n",
    "        if optn==3:\n",
    "            print(\"\\n****Multiplication****\")\n",
    "            n=int(input(\"Enter the number of no.s to multiply \"))\n",
    "            s=1\n",
    "            for i in range(n):\n",
    "                s=s*float(input(\"Enter the number\"))\n",
    "            print(\"The sum of numbers is \",s)\n",
    "        if optn==4:\n",
    "            print(\"\\n****Division****\")\n",
    "            a,b=map(float,input(\"Enter 2 numbers to divide, a,b\").split(\",\"))\n",
    "            s=a/b\n",
    "            print(\"The result of subtraction of 2 numbers is \",s)\n",
    "        if optn==5:\n",
    "            print(\"Exiting calculator\")\n",
    "            break\n",
    "    \n",
    "    "
   ]
  },
  {
   "cell_type": "code",
   "execution_count": 61,
   "id": "a2dcd2e5",
   "metadata": {},
   "outputs": [
    {
     "name": "stdout",
     "output_type": "stream",
     "text": [
      "Enter an operation: Addition:1; Subtraction:2;Multiplication:3;Division:4;Quit:5 1\n",
      "\n",
      "****Addition****\n",
      "Enter the number of no.s to add 3\n",
      "Enter the number1\n",
      "Enter the number2\n",
      "Enter the number3\n",
      "The sum of numbers is  6\n",
      "Enter an operation: Addition:1; Subtraction:2;Multiplication:3;Division:4;Quit:5 3\n",
      "\n",
      "****Multiplication****\n",
      "Enter the number of no.s to multiply 2\n",
      "Enter the number4\n",
      "Enter the number5\n",
      "The sum of numbers is  20.0\n",
      "Enter an operation: Addition:1; Subtraction:2;Multiplication:3;Division:4;Quit:5 4\n",
      "\n",
      "****Division****\n",
      "Enter 2 numbers to divide, a,b3,4\n",
      "The result of subtraction of 2 numbers is  0.75\n",
      "Enter an operation: Addition:1; Subtraction:2;Multiplication:3;Division:4;Quit:5 5\n",
      "Exiting calculator\n"
     ]
    }
   ],
   "source": [
    "calculator()"
   ]
  },
  {
   "cell_type": "markdown",
   "id": "3b29532a",
   "metadata": {},
   "source": [
    "##### "
   ]
  }
 ],
 "metadata": {
  "kernelspec": {
   "display_name": "Python 3 (ipykernel)",
   "language": "python",
   "name": "python3"
  },
  "language_info": {
   "codemirror_mode": {
    "name": "ipython",
    "version": 3
   },
   "file_extension": ".py",
   "mimetype": "text/x-python",
   "name": "python",
   "nbconvert_exporter": "python",
   "pygments_lexer": "ipython3",
   "version": "3.9.7"
  }
 },
 "nbformat": 4,
 "nbformat_minor": 5
}
