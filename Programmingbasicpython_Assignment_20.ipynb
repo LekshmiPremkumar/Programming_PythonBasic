{
 "cells": [
  {
   "cell_type": "code",
   "execution_count": 1,
   "id": "74913ae4",
   "metadata": {},
   "outputs": [],
   "source": [
    "#Q1filter strings\n",
    "\n",
    "def filter_list(s):\n",
    "    l=[]\n",
    "    for i in s:\n",
    "        if type(i) != str:\n",
    "            l.append(i)\n",
    "    return l"
   ]
  },
  {
   "cell_type": "code",
   "execution_count": 2,
   "id": "afd2178b",
   "metadata": {},
   "outputs": [
    {
     "data": {
      "text/plain": [
       "[1, 2, 123]"
      ]
     },
     "execution_count": 2,
     "metadata": {},
     "output_type": "execute_result"
    }
   ],
   "source": [
    "filter_list([1, 2, \"aaasf\",\"1\", \"123\", 123])"
   ]
  },
  {
   "cell_type": "code",
   "execution_count": 5,
   "id": "e25807ba",
   "metadata": {},
   "outputs": [],
   "source": [
    "#Q2indexes\n",
    "def add_indexes(n):\n",
    "    for i in range(len(n)):\n",
    "        n[i]=n[i]+i\n",
    "    return n"
   ]
  },
  {
   "cell_type": "code",
   "execution_count": 6,
   "id": "6905a085",
   "metadata": {},
   "outputs": [
    {
     "name": "stdout",
     "output_type": "stream",
     "text": [
      "[0, 1, 2, 3, 4, 5]\n"
     ]
    },
    {
     "data": {
      "text/plain": [
       "[5, 5, 5, 5, 5]"
      ]
     },
     "execution_count": 6,
     "metadata": {},
     "output_type": "execute_result"
    }
   ],
   "source": [
    "n=[0,0,0,0,0,0]\n",
    "print(add_indexes(n))\n",
    "add_indexes([5, 4, 3, 2, 1])"
   ]
  },
  {
   "cell_type": "code",
   "execution_count": 9,
   "id": "8a6b7dca",
   "metadata": {},
   "outputs": [],
   "source": [
    "#Q3. cone volume\n",
    "import math\n",
    "def conevol(h,r):\n",
    "    return round(math.pi*pow(r,2)*h/3,2)"
   ]
  },
  {
   "cell_type": "code",
   "execution_count": 10,
   "id": "690cb0a2",
   "metadata": {},
   "outputs": [
    {
     "data": {
      "text/plain": [
       "12.57"
      ]
     },
     "execution_count": 10,
     "metadata": {},
     "output_type": "execute_result"
    }
   ],
   "source": [
    "conevol(3,2)"
   ]
  },
  {
   "cell_type": "code",
   "execution_count": 36,
   "id": "5f9d266d",
   "metadata": {},
   "outputs": [],
   "source": [
    "#Q4 triangle points\n",
    "def triangle(n):\n",
    "    l=[]\n",
    "    l.append(1)\n",
    "    for i in range(1,n):\n",
    "    \n",
    "        l.append(l[i-1]+i+1)\n",
    "    return l[n-1]\n",
    "        \n",
    "        "
   ]
  },
  {
   "cell_type": "code",
   "execution_count": 38,
   "id": "7e55642e",
   "metadata": {},
   "outputs": [
    {
     "data": {
      "text/plain": [
       "23220"
      ]
     },
     "execution_count": 38,
     "metadata": {},
     "output_type": "execute_result"
    }
   ],
   "source": [
    "triangle(215)"
   ]
  },
  {
   "cell_type": "code",
   "execution_count": 41,
   "id": "37c6f0e5",
   "metadata": {},
   "outputs": [],
   "source": [
    "#Create a function that takes a list of numbers between 1 and 10 (excluding one number) and\n",
    "#returns the missing number.\n",
    "\n",
    "\n",
    "def missingnum(n):\n",
    "    for i in range(1,11):\n",
    "        if i not in n:\n",
    "            return i\n",
    "            "
   ]
  },
  {
   "cell_type": "code",
   "execution_count": 46,
   "id": "83bf9687",
   "metadata": {},
   "outputs": [
    {
     "name": "stdout",
     "output_type": "stream",
     "text": [
      " missing number between 0 and 11 is 4\n"
     ]
    }
   ],
   "source": [
    "n=[1,2,3,5,6,7,8,9,10]\n",
    "print(f' missing number between 0 and 11 is {missingnum(n)}')"
   ]
  },
  {
   "cell_type": "code",
   "execution_count": null,
   "id": "b4db715a",
   "metadata": {},
   "outputs": [],
   "source": []
  }
 ],
 "metadata": {
  "kernelspec": {
   "display_name": "Python 3 (ipykernel)",
   "language": "python",
   "name": "python3"
  },
  "language_info": {
   "codemirror_mode": {
    "name": "ipython",
    "version": 3
   },
   "file_extension": ".py",
   "mimetype": "text/x-python",
   "name": "python",
   "nbconvert_exporter": "python",
   "pygments_lexer": "ipython3",
   "version": "3.9.7"
  }
 },
 "nbformat": 4,
 "nbformat_minor": 5
}
