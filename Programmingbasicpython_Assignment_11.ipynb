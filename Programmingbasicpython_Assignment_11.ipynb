{
 "cells": [
  {
   "cell_type": "code",
   "execution_count": 2,
   "id": "ee9d7351",
   "metadata": {},
   "outputs": [],
   "source": [
    "#Python program to find words which are greater than given length k\n",
    "\n",
    "def wordlength(f,k):\n",
    "    l=[]\n",
    "    for i in f:\n",
    "        if len(i)>k:\n",
    "            l.append(i)\n",
    "    return l"
   ]
  },
  {
   "cell_type": "code",
   "execution_count": 7,
   "id": "611caaf5",
   "metadata": {},
   "outputs": [
    {
     "name": "stdout",
     "output_type": "stream",
     "text": [
      "Words in the list with length > 7 are ['unbrella', 'entertainment', 'Assignment']\n"
     ]
    }
   ],
   "source": [
    "f=[\"unbrella\",\"mobile\",\"dinner\",\"entertainment\", \"greater\",\"Assignment\"]\n",
    "n=7\n",
    "print(f'Words in the list with length > {n} are {wordlength(f,n)}')"
   ]
  },
  {
   "cell_type": "code",
   "execution_count": 54,
   "id": "91e41742",
   "metadata": {},
   "outputs": [],
   "source": [
    "#program for removing i-th character from a string\n",
    "\n",
    "def removechar(strin,i):\n",
    "    strin=\"finishline\"\n",
    "    stri=list(strin)\n",
    "    del stri[3:4]\n",
    "\n",
    "    strin=(\"\".join(stri))\n",
    "    return strin\n",
    "        "
   ]
  },
  {
   "cell_type": "code",
   "execution_count": 55,
   "id": "fa0d9fe1",
   "metadata": {},
   "outputs": [
    {
     "data": {
      "text/plain": [
       "'finshline'"
      ]
     },
     "execution_count": 55,
     "metadata": {},
     "output_type": "execute_result"
    }
   ],
   "source": [
    "removechar(\"finishline\",3)"
   ]
  },
  {
   "cell_type": "code",
   "execution_count": 57,
   "id": "1fe1331a",
   "metadata": {},
   "outputs": [
    {
     "name": "stdout",
     "output_type": "stream",
     "text": [
      "Enter the string to split and joinentertainment\n",
      "splitted list is  ['e', 'n', 't', 'e', 'r', 't', 'a', 'i', 'n', 'm', 'e', 'n', 't']\n",
      "Joined string is  entertainment\n"
     ]
    }
   ],
   "source": [
    "#program to split and join a string\n",
    "\n",
    "def split(string):\n",
    "    lis=list(string)\n",
    "    return lis\n",
    "    \n",
    "\n",
    "def join(lis):\n",
    "    return \"\".join(lis)\n",
    "    \n",
    "    \n",
    "\n",
    "string=input(\"Enter the string to split and join\")    \n",
    "print(\"splitted list is \",split(string))    \n",
    "lis=split(string)\n",
    "print(\"Joined string is \",join(lis))\n",
    "    "
   ]
  },
  {
   "cell_type": "code",
   "execution_count": 63,
   "id": "1bdd490e",
   "metadata": {},
   "outputs": [],
   "source": [
    "#a given string is binary string or not\n",
    "\n",
    "def isBinary(string):\n",
    "    try:\n",
    "        y=int(string)\n",
    "        k=list(string)\n",
    "        f=1\n",
    "        for i in k:\n",
    "            if int(i) not in [1,0]:\n",
    "                print(\"It is not a binary string\")\n",
    "                f=0\n",
    "                break\n",
    "        if f==1:\n",
    "            print(\"It is a binary string\")\n",
    "        \n",
    "        \n",
    "            \n",
    "    except:\n",
    "        print(\"It is not a binary string\")\n",
    "\n",
    "        "
   ]
  },
  {
   "cell_type": "code",
   "execution_count": 70,
   "id": "4a723b12",
   "metadata": {},
   "outputs": [
    {
     "name": "stdout",
     "output_type": "stream",
     "text": [
      "Enter a string to check whether it is binary or not 10101\n",
      "It is a binary string\n"
     ]
    }
   ],
   "source": [
    "s=input(\"Enter a string to check whether it is binary or not \")\n",
    "isBinary(s)\n"
   ]
  },
  {
   "cell_type": "code",
   "execution_count": 98,
   "id": "460c6056",
   "metadata": {},
   "outputs": [],
   "source": [
    "#program to find uncommon words from two Strings\n",
    "\n",
    "def uncommonwords(A,B):\n",
    "    listA=A.split(\" \")\n",
    "    listB=B.split(\" \")\n",
    "    #print(listA)\n",
    "    l=[]\n",
    "    n=[]\n",
    "    for i in listA:\n",
    "        if i in listB:\n",
    "            n.append(i) \n",
    "        else:\n",
    "            l.append(i)\n",
    "    \n",
    "    for i in listB:\n",
    "        if i not in n:\n",
    "            l.append(i)\n",
    "    return l\n",
    "        \n",
    "        \n",
    "        \n",
    "        \n"
   ]
  },
  {
   "cell_type": "code",
   "execution_count": 100,
   "id": "43cd0fec",
   "metadata": {},
   "outputs": [
    {
     "name": "stdout",
     "output_type": "stream",
     "text": [
      "Enter the first string I am Earth and i am a sphere\n",
      "Enter the second string I am Sun and i am very hot\n"
     ]
    }
   ],
   "source": [
    "A=input(\"Enter the first string \")\n",
    "B=input(\"Enter the second string \")"
   ]
  },
  {
   "cell_type": "code",
   "execution_count": 103,
   "id": "78b75385",
   "metadata": {},
   "outputs": [
    {
     "name": "stdout",
     "output_type": "stream",
     "text": [
      "The uncommon words are ['Earth', 'a', 'sphere', 'Sun', 'very', 'hot']\n"
     ]
    }
   ],
   "source": [
    "print(f'The uncommon words are {uncommonwords(A,B)}')"
   ]
  },
  {
   "cell_type": "code",
   "execution_count": 109,
   "id": "c7d8ba7e",
   "metadata": {},
   "outputs": [],
   "source": [
    "#Python to find all duplicate characters in string\n",
    "def duplicatechar(string):\n",
    "    y=list(string)\n",
    "    d={}\n",
    "    for i in y:\n",
    "        if i in d:\n",
    "            d[i]+=1\n",
    "        else:\n",
    "            d[i]=1\n",
    "    l=[]\n",
    "    for i in d:\n",
    "        if d[i]>1:\n",
    "            l.append(i)\n",
    "    return l\n",
    "        \n",
    "    "
   ]
  },
  {
   "cell_type": "code",
   "execution_count": 113,
   "id": "f5c4a0bc",
   "metadata": {},
   "outputs": [
    {
     "name": "stdout",
     "output_type": "stream",
     "text": [
      "Enter the string characters\n",
      "The duplicate characters present in the string are ['c', 'a', 'r']\n"
     ]
    }
   ],
   "source": [
    "n=input(\"Enter the string \")\n",
    "print(f'The duplicate characters present in the string are {duplicatechar(n)}')"
   ]
  },
  {
   "cell_type": "code",
   "execution_count": 131,
   "id": "6a84efe4",
   "metadata": {},
   "outputs": [],
   "source": [
    "#Python Program to check if a string contains any special character\n",
    "import string\n",
    "def charcheck(n):\n",
    "    l=[]\n",
    "    nn=list(n)\n",
    "\n",
    "    for i in nn:\n",
    "        if i in string.punctuation:\n",
    "            l.append(i)\n",
    "    return l\n"
   ]
  },
  {
   "cell_type": "code",
   "execution_count": 132,
   "id": "d431c639",
   "metadata": {},
   "outputs": [
    {
     "name": "stdout",
     "output_type": "stream",
     "text": [
      "The special chars in the string are ['%', '!', '@', '#', '$', '%', '^', '&']\n"
     ]
    }
   ],
   "source": [
    "char=charcheck(\"p%!helloworldhu@#$%^&\")\n",
    "if len(char)>=1:\n",
    "    print(f\"The special chars in the string are {char}\")\n",
    "else:\n",
    "    print(\"There are no special chars\")"
   ]
  },
  {
   "cell_type": "code",
   "execution_count": null,
   "id": "af1fbd67",
   "metadata": {},
   "outputs": [],
   "source": []
  }
 ],
 "metadata": {
  "kernelspec": {
   "display_name": "Python 3 (ipykernel)",
   "language": "python",
   "name": "python3"
  },
  "language_info": {
   "codemirror_mode": {
    "name": "ipython",
    "version": 3
   },
   "file_extension": ".py",
   "mimetype": "text/x-python",
   "name": "python",
   "nbconvert_exporter": "python",
   "pygments_lexer": "ipython3",
   "version": "3.9.7"
  }
 },
 "nbformat": 4,
 "nbformat_minor": 5
}
