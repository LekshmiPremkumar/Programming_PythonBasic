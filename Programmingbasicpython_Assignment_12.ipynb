{
 "cells": [
  {
   "cell_type": "code",
   "execution_count": 9,
   "id": "dc02ee37",
   "metadata": {},
   "outputs": [],
   "source": [
    "#Python program to Extract Unique values dictionary values\n",
    "\n",
    "def dictuniqueVals(d):\n",
    "    l=[]\n",
    "    for i in d:\n",
    "        for j in d[i]:\n",
    "            l.append(j)\n",
    "    y=set(l)\n",
    "    return y"
   ]
  },
  {
   "cell_type": "code",
   "execution_count": 10,
   "id": "3ace3f83",
   "metadata": {},
   "outputs": [
    {
     "name": "stdout",
     "output_type": "stream",
     "text": [
      "The original dictionary is : {'world': [51, 36, 17, 80], 'is': [110, 113, 17, 51], 'a': [61, 121, 10, 80], 'good': [11, 32, 51], 'place': [11, 23, 5]}\n",
      "The unique values are : {32, 36, 5, 10, 11, 110, 80, 17, 113, 51, 23, 121, 61}\n"
     ]
    }
   ],
   "source": [
    "d = {'world' : [51, 36, 17, 80],\n",
    "             'is' : [110, 113, 17, 51],\n",
    "             'a' : [61, 121, 10, 80],\n",
    "             'good' : [11, 32, 51],\n",
    "    'place' : [11, 23, 5]}\n",
    "print(\"The original dictionary is : \" + str(d))\n",
    "print(\"The unique values are : \" + str(dictuniqueVals(d)))"
   ]
  },
  {
   "cell_type": "code",
   "execution_count": 6,
   "id": "a1bea8be",
   "metadata": {},
   "outputs": [
    {
     "data": {
      "text/plain": [
       "{4, 5, 6}"
      ]
     },
     "execution_count": 6,
     "metadata": {},
     "output_type": "execute_result"
    }
   ],
   "source": [
    "lis=[4,5,6,5,6,]\n",
    "set(lis)"
   ]
  },
  {
   "cell_type": "code",
   "execution_count": 16,
   "id": "7637a8a6",
   "metadata": {},
   "outputs": [
    {
     "name": "stdout",
     "output_type": "stream",
     "text": [
      "sum of all items in a dictionary is 880\n"
     ]
    }
   ],
   "source": [
    "#Python program to find the sum of all items in a dictionary\n",
    "\n",
    "from itertools import chain\n",
    "\n",
    "d = {'world' : [51, 36, 17, 80],\n",
    "             'is' : [110, 113, 17, 51],\n",
    "             'a' : [61, 121, 10, 80],\n",
    "             'good' : [11,32, 51],\n",
    "    'place' : [11, 23, 5]}\n",
    "\n",
    "l=list(chain(*d.values()))\n",
    "s=0\n",
    "for i in l:\n",
    "    s+=i\n",
    "print(f'sum of all items in a dictionary is {s}')"
   ]
  },
  {
   "cell_type": "code",
   "execution_count": 37,
   "id": "9515704c",
   "metadata": {},
   "outputs": [],
   "source": [
    "#Python program to Merging two Dictionaries\n",
    "\n",
    "\n",
    "\n",
    "d1 = {'world' : [1,2,3],\n",
    "    'is' : [4,5,6],\n",
    "     'good' : [7,8],\n",
    "      \"hi\":[3,5,2,1]\n",
    "}\n",
    "d2={'a' : [1,2,3],\n",
    "     'place' : [7,8,9],\n",
    "    'good' : [9,10],\n",
    "    \"hi\":[3,2,1,4]\n",
    "}\n",
    "\n",
    "def dict_merge(d1,d2):\n",
    "\n",
    "    for i in d2:\n",
    "        if i in d1:\n",
    "            for j in d2[i]:\n",
    "                if j not in d1[i]:\n",
    "                    d1[i].append(j)\n",
    "        else:\n",
    "            d1[i]=d2[i]\n",
    "    return d1"
   ]
  },
  {
   "cell_type": "code",
   "execution_count": 38,
   "id": "ae4ef185",
   "metadata": {},
   "outputs": [
    {
     "name": "stdout",
     "output_type": "stream",
     "text": [
      "Merged dictionary is {'world': [1, 2, 3], 'is': [4, 5, 6], 'good': [7, 8], 'hi': [3, 5, 2, 1]}\n"
     ]
    }
   ],
   "source": [
    "print(f'Merged dictionary is {d1}')"
   ]
  },
  {
   "cell_type": "code",
   "execution_count": 72,
   "id": "24332047",
   "metadata": {},
   "outputs": [
    {
     "name": "stdout",
     "output_type": "stream",
     "text": [
      "Flattened dictionary : {1: 'Sam', 2: 'Jam', 3: 'Ram'}\n"
     ]
    }
   ],
   "source": [
    "#convert key-values list to flat dictionary\n",
    "d = {'no' : [1, 2, 3],\n",
    "             'name' : ['Sam', 'Jam', 'Ram']}\n",
    "keys=list(d.keys())\n",
    "dic={}\n",
    "#res = dict(zip(d['no'], d['name']))\n",
    "for i in range(len(d[keys[0]])):\n",
    "    dic[d[keys[0]][i]]= d[keys[1]][i]\n",
    "print(\"Flattened dictionary : \" + str(dic)) "
   ]
  },
  {
   "cell_type": "code",
   "execution_count": 70,
   "id": "43ae4b85",
   "metadata": {},
   "outputs": [
    {
     "name": "stdout",
     "output_type": "stream",
     "text": [
      "Dictionary after inserting   OrderedDict([('Ram', '3'), ('Sam', '1'), ('Jam', '2')])\n"
     ]
    }
   ],
   "source": [
    "#Python program to insertion at the beginning in OrderedDict\n",
    "from collections import OrderedDict\n",
    " \n",
    "\n",
    "ordered_dict = OrderedDict([('Sam', '1'), ('Jam', '2')])\n",
    " \n",
    "\n",
    "ordered_dict.update({'Ram':'3'})\n",
    "ordered_dict.move_to_end('Ram', last = False)\n",
    " \n",
    "# print result\n",
    "print (f\"Dictionary after inserting  \",ordered_dict)\n"
   ]
  },
  {
   "cell_type": "code",
   "execution_count": 101,
   "id": "9e6e60de",
   "metadata": {},
   "outputs": [],
   "source": [
    "#Python program to check order of character in string using OrderedDict()\n",
    "\n",
    "from collections import OrderedDict \n",
    "  \n",
    "def checkOrder(string, char): \n",
    "      \n",
    "    d = OrderedDict.fromkeys(string) \n",
    "    #print(d)\n",
    "    i = 0\n",
    "    for key,value in d.items(): \n",
    "        if (key == char[i]): \n",
    "            i = i + 1\n",
    "          \n",
    "        if (i == (len(char))): \n",
    "            return 'true'\n",
    "\n",
    "    return 'false'\n"
   ]
  },
  {
   "cell_type": "code",
   "execution_count": 102,
   "id": "c81936bd",
   "metadata": {},
   "outputs": [
    {
     "name": "stdout",
     "output_type": "stream",
     "text": [
      "false\n"
     ]
    }
   ],
   "source": [
    "string = 'Spectacles'\n",
    "char = 'acl'\n",
    "print (checkOrder(string,char))"
   ]
  },
  {
   "cell_type": "code",
   "execution_count": 108,
   "id": "1f143ff0",
   "metadata": {},
   "outputs": [
    {
     "ename": "TypeError",
     "evalue": "descriptor 'values' for 'collections.OrderedDict' objects doesn't apply to a 'str' object",
     "output_type": "error",
     "traceback": [
      "\u001b[0;31m---------------------------------------------------------------------------\u001b[0m",
      "\u001b[0;31mTypeError\u001b[0m                                 Traceback (most recent call last)",
      "\u001b[0;32m/var/folders/gb/f3p9f4v121q_wkpg_wxw1z680000gq/T/ipykernel_51376/2510085704.py\u001b[0m in \u001b[0;36m<module>\u001b[0;34m\u001b[0m\n\u001b[0;32m----> 1\u001b[0;31m \u001b[0mOrderedDict\u001b[0m\u001b[0;34m.\u001b[0m\u001b[0mvalues\u001b[0m\u001b[0;34m(\u001b[0m\u001b[0mstring\u001b[0m\u001b[0;34m)\u001b[0m\u001b[0;34m\u001b[0m\u001b[0;34m\u001b[0m\u001b[0m\n\u001b[0m",
      "\u001b[0;31mTypeError\u001b[0m: descriptor 'values' for 'collections.OrderedDict' objects doesn't apply to a 'str' object"
     ]
    }
   ],
   "source": [
    "OrderedDict.values(string)"
   ]
  },
  {
   "cell_type": "code",
   "execution_count": 82,
   "id": "208a5b75",
   "metadata": {},
   "outputs": [],
   "source": [
    "#Python program to sort Python Dictionaries by Key or Value\n",
    "\n",
    "def sortkey(d):\n",
    "    key=list(d.keys())\n",
    "    key=sorted(key)\n",
    "    l=[]\n",
    "    for i in key:\n",
    "        l.append(i)\n",
    "    return l\n",
    "def sortval(d):\n",
    "    val=list(d.values())\n",
    "    val=sorted(val)\n",
    "    l=[]\n",
    "    for i in val:\n",
    "        l.append(i)\n",
    "    return l"
   ]
  },
  {
   "cell_type": "code",
   "execution_count": 85,
   "id": "48531c12",
   "metadata": {},
   "outputs": [
    {
     "name": "stdout",
     "output_type": "stream",
     "text": [
      "Sorted keys [1, 3, 10, 14, 22]\n",
      "Sorted values [1, 3, 11, 12, 14]\n"
     ]
    }
   ],
   "source": [
    "d={22:12,14:3,1:14,10:11,3:1}\n",
    "\n",
    "print(f'Sorted keys {sortkey(d)}')\n",
    "print(f'Sorted values {sortval(d)}')"
   ]
  },
  {
   "cell_type": "code",
   "execution_count": null,
   "id": "4c691f06",
   "metadata": {},
   "outputs": [],
   "source": []
  }
 ],
 "metadata": {
  "kernelspec": {
   "display_name": "Python 3 (ipykernel)",
   "language": "python",
   "name": "python3"
  },
  "language_info": {
   "codemirror_mode": {
    "name": "ipython",
    "version": 3
   },
   "file_extension": ".py",
   "mimetype": "text/x-python",
   "name": "python",
   "nbconvert_exporter": "python",
   "pygments_lexer": "ipython3",
   "version": "3.9.7"
  }
 },
 "nbformat": 4,
 "nbformat_minor": 5
}
