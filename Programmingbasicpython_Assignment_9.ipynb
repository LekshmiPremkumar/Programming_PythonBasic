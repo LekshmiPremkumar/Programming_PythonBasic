{
 "cells": [
  {
   "cell_type": "code",
   "execution_count": 19,
   "id": "b7abef5f",
   "metadata": {},
   "outputs": [],
   "source": [
    "#Python program to check if the given number is a Disarium Number\n",
    "\n",
    "def Disarium(n):\n",
    "    p=len(str(n))\n",
    "    s=0\n",
    "    num=n\n",
    "    while(n!=0):\n",
    "        s=s+pow((n%10),p)\n",
    "        p-=1\n",
    "        n=n//10\n",
    "    if s==num:\n",
    "        return s,1\n",
    "    else:\n",
    "        return s,0\n",
    "        "
   ]
  },
  {
   "cell_type": "code",
   "execution_count": 38,
   "id": "f818ca8a",
   "metadata": {},
   "outputs": [
    {
     "name": "stdout",
     "output_type": "stream",
     "text": [
      "518 is a Disarium number\n"
     ]
    }
   ],
   "source": [
    "n=518\n",
    "k=Disarium(n)\n",
    "if k[1]==1:\n",
    "    print(f'{k[0]} is a Disarium number')\n",
    "else:\n",
    "    print(f'{k[0]} is not a Disarium number')"
   ]
  },
  {
   "cell_type": "code",
   "execution_count": 25,
   "id": "eb1082bc",
   "metadata": {},
   "outputs": [
    {
     "name": "stdout",
     "output_type": "stream",
     "text": [
      "Disarium nos between 1 and 100 are [0, 1, 2, 3, 4, 5, 6, 7, 8, 9, 89]\n"
     ]
    }
   ],
   "source": [
    "#Python program to print all disarium numbers between 1 to 100\n",
    "l=[]\n",
    "for i in range(100):\n",
    "    k=Disarium(i)\n",
    "   # print(k)\n",
    "    if k[1]==1:\n",
    "        l.append(k[0])\n",
    "print(f'Disarium nos between 1 and 100 are {l}')"
   ]
  },
  {
   "cell_type": "code",
   "execution_count": 35,
   "id": "b4451c96",
   "metadata": {},
   "outputs": [],
   "source": [
    "#Python program to check if the given number is Happy Number\n",
    "\n",
    "def happynumber(num):\n",
    "    number=num\n",
    "\n",
    "    while(len(str(num))!=1):\n",
    "        s=0\n",
    "        n=num\n",
    "        while(n!=0):\n",
    "            s+=pow(n%10,2)\n",
    "            n=n//10\n",
    "            num=s\n",
    "    if num==1:\n",
    "        return number,1\n",
    "    else:\n",
    "        return number,0\n",
    "    \n",
    "    \n",
    "    "
   ]
  },
  {
   "cell_type": "code",
   "execution_count": 39,
   "id": "9d4ba297",
   "metadata": {},
   "outputs": [
    {
     "name": "stdout",
     "output_type": "stream",
     "text": [
      "518 is not a Happy number\n"
     ]
    }
   ],
   "source": [
    "n=518\n",
    "k=happynumber(n)\n",
    "if k[1]==1:\n",
    "    print(f'{k[0]} is a Happy number')\n",
    "else:\n",
    "    print(f'{k[0]} is not a Happy number')\n",
    "    "
   ]
  },
  {
   "cell_type": "code",
   "execution_count": 41,
   "id": "106badb5",
   "metadata": {},
   "outputs": [
    {
     "name": "stdout",
     "output_type": "stream",
     "text": [
      "Happy nos between 1 and 100 are [1, 10, 13, 19, 23, 28, 31, 32, 44, 49, 68, 70, 79, 82, 86, 91, 94, 97]\n"
     ]
    }
   ],
   "source": [
    "#Python program to print all happy numbers between 1 to 100\n",
    "l=[]\n",
    "for i in range(100):\n",
    "    k=happynumber(i)\n",
    "    if k[1]==1:\n",
    "        l.append(k[0])\n",
    "print(f'Happy nos between 1 and 100 are {l}')"
   ]
  },
  {
   "cell_type": "code",
   "execution_count": 42,
   "id": "c56593d6",
   "metadata": {},
   "outputs": [],
   "source": [
    "#Python program to determine whether the given number is a Harshad Number\n",
    "\n",
    "\n",
    "def Harshadnumber(num):\n",
    "    s=0\n",
    "    n=num\n",
    "    while(n!=0):\n",
    "        s=s+n%10\n",
    "        n=n//10\n",
    "    if num%s==0:\n",
    "        return num,1\n",
    "    else:\n",
    "        return num,0\n",
    "        "
   ]
  },
  {
   "cell_type": "code",
   "execution_count": 43,
   "id": "d22d6ab8",
   "metadata": {},
   "outputs": [
    {
     "name": "stdout",
     "output_type": "stream",
     "text": [
      "21 is a Harshad number\n"
     ]
    }
   ],
   "source": [
    "n=21\n",
    "k=Harshadnumber(n)\n",
    "if k[1]==1:\n",
    "    print(f'{k[0]} is a Harshad number')\n",
    "else:\n",
    "    print(f'{k[0]} is not a Harshad number')"
   ]
  },
  {
   "cell_type": "code",
   "execution_count": 65,
   "id": "589d9ebe",
   "metadata": {},
   "outputs": [],
   "source": [
    "#Python program to print all pronic numbers between 1 and 100\n",
    "\n",
    "import math\n",
    "def pronic(num):\n",
    "    l=[]\n",
    "    a,b=1,1\n",
    "    c=-num\n",
    "    l.append((-b+math.sqrt(b**2-4*a*c))/(2*a))\n",
    "    l.append((-b-math.sqrt(b**2-4*a*c))/(2*a))\n",
    "    #print(\"Solutions of the quadratic equations are \", l)\n",
    "    for i in l:\n",
    "        if int(i)*(int(i)+1)==num:\n",
    "            return num,1\n",
    " \n",
    "    return num,0      \n"
   ]
  },
  {
   "cell_type": "code",
   "execution_count": 66,
   "id": "1c6c5a36",
   "metadata": {},
   "outputs": [
    {
     "name": "stdout",
     "output_type": "stream",
     "text": [
      "Happy nos between 1 and 100 are [0, 2, 6, 12, 20, 30, 42, 56, 72, 90]\n"
     ]
    }
   ],
   "source": [
    "l=[]\n",
    "for i in range(100):\n",
    "    k=pronic(i)\n",
    "    if k[1]==1:\n",
    "        l.append(k[0])\n",
    "print(f'Pronic nos between 1 and 100 are {l}')\n"
   ]
  },
  {
   "cell_type": "code",
   "execution_count": null,
   "id": "fc5a0aee",
   "metadata": {},
   "outputs": [],
   "source": []
  }
 ],
 "metadata": {
  "kernelspec": {
   "display_name": "Python 3 (ipykernel)",
   "language": "python",
   "name": "python3"
  },
  "language_info": {
   "codemirror_mode": {
    "name": "ipython",
    "version": 3
   },
   "file_extension": ".py",
   "mimetype": "text/x-python",
   "name": "python",
   "nbconvert_exporter": "python",
   "pygments_lexer": "ipython3",
   "version": "3.9.7"
  }
 },
 "nbformat": 4,
 "nbformat_minor": 5
}
