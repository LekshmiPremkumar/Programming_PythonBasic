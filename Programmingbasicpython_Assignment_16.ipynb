{
 "cells": [
  {
   "cell_type": "code",
   "execution_count": 7,
   "id": "be701cb2",
   "metadata": {},
   "outputs": [],
   "source": [
    "#stutter\n",
    "def stutter(n):\n",
    "    y= n[:2]\n",
    "    x= (y+\"... \")*2\n",
    "    return x+n+\"?\""
   ]
  },
  {
   "cell_type": "code",
   "execution_count": 9,
   "id": "56e5f04c",
   "metadata": {},
   "outputs": [
    {
     "name": "stdout",
     "output_type": "stream",
     "text": [
      "in... in... incoming?\n",
      "en... en... enthusiastic?\n"
     ]
    }
   ],
   "source": [
    "print(stutter(\"incoming\"))\n",
    "print(stutter(\"enthusiastic\"))"
   ]
  },
  {
   "cell_type": "code",
   "execution_count": 15,
   "id": "05519666",
   "metadata": {},
   "outputs": [],
   "source": [
    "#2.Create a function that takes an angle in radians and returns the corresponding angle in degrees \n",
    "#rounded to one decimal place\n",
    "import math\n",
    "def radians_to_degrees(n):\n",
    "    return round((180*n/math.pi),1)\n",
    "\n",
    "\n"
   ]
  },
  {
   "cell_type": "code",
   "execution_count": 21,
   "id": "acf01ba8",
   "metadata": {},
   "outputs": [
    {
     "name": "stdout",
     "output_type": "stream",
     "text": [
      "57.3\n",
      "1145.9\n"
     ]
    }
   ],
   "source": [
    "print(radians_to_degrees(1))\n",
    "print(radians_to_degrees(20))"
   ]
  },
  {
   "cell_type": "code",
   "execution_count": 18,
   "id": "b986726b",
   "metadata": {},
   "outputs": [],
   "source": [
    "#Curzon no\n",
    "def is_curzon(n):\n",
    "    a=pow(2,n)+1\n",
    "    b=(2*n)+1\n",
    "    if a%b==0:\n",
    "        return True\n",
    "    else:\n",
    "        return False\n",
    "        "
   ]
  },
  {
   "cell_type": "code",
   "execution_count": 20,
   "id": "a7677510",
   "metadata": {},
   "outputs": [
    {
     "name": "stdout",
     "output_type": "stream",
     "text": [
      "True\n",
      "False\n",
      "True\n"
     ]
    }
   ],
   "source": [
    "print(is_curzon(5))\n",
    "print(is_curzon(10))\n",
    "print(is_curzon(14))"
   ]
  },
  {
   "cell_type": "code",
   "execution_count": 28,
   "id": "93df6876",
   "metadata": {},
   "outputs": [],
   "source": [
    "#hexagon area\n",
    "import numpy as np\n",
    "def area_of_hexagon(n):\n",
    "    return round(3*np.sqrt(3)*pow(n,2)/2,1)"
   ]
  },
  {
   "cell_type": "code",
   "execution_count": 30,
   "id": "a26d8f5b",
   "metadata": {},
   "outputs": [
    {
     "name": "stdout",
     "output_type": "stream",
     "text": [
      "2.6\n",
      "10.4\n"
     ]
    }
   ],
   "source": [
    "print(area_of_hexagon(1))\n",
    "print(area_of_hexagon(2))"
   ]
  },
  {
   "cell_type": "code",
   "execution_count": 31,
   "id": "bbbf17e6",
   "metadata": {},
   "outputs": [],
   "source": [
    "#Deciaml to Binary\n",
    "def Binary(n):\n",
    "    if n==1:\n",
    "        return 1\n",
    "    if n==0:\n",
    "        return 0\n",
    "    \n",
    "    return n%2 + 10 *Binary(n//2)"
   ]
  },
  {
   "cell_type": "code",
   "execution_count": 35,
   "id": "cb3281b5",
   "metadata": {},
   "outputs": [
    {
     "data": {
      "text/plain": [
       "1010"
      ]
     },
     "execution_count": 35,
     "metadata": {},
     "output_type": "execute_result"
    }
   ],
   "source": [
    "Binary(10)"
   ]
  },
  {
   "cell_type": "code",
   "execution_count": null,
   "id": "717948b1",
   "metadata": {},
   "outputs": [],
   "source": []
  }
 ],
 "metadata": {
  "kernelspec": {
   "display_name": "Python 3 (ipykernel)",
   "language": "python",
   "name": "python3"
  },
  "language_info": {
   "codemirror_mode": {
    "name": "ipython",
    "version": 3
   },
   "file_extension": ".py",
   "mimetype": "text/x-python",
   "name": "python",
   "nbconvert_exporter": "python",
   "pygments_lexer": "ipython3",
   "version": "3.9.7"
  }
 },
 "nbformat": 4,
 "nbformat_minor": 5
}
