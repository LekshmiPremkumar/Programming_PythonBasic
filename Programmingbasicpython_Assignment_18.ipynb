{
 "cells": [
  {
   "cell_type": "code",
   "execution_count": 4,
   "id": "fd7d28e5",
   "metadata": {},
   "outputs": [],
   "source": [
    "#filter strings\n",
    "\n",
    "def filter_list(s):\n",
    "    l=[]\n",
    "    for i in s:\n",
    "        if type(i) != str:\n",
    "            l.append(i)\n",
    "    return l"
   ]
  },
  {
   "cell_type": "code",
   "execution_count": 9,
   "id": "351c052d",
   "metadata": {},
   "outputs": [
    {
     "data": {
      "text/plain": [
       "[1, 2, 123]"
      ]
     },
     "execution_count": 9,
     "metadata": {},
     "output_type": "execute_result"
    }
   ],
   "source": [
    "filter_list([1, 2, \"aaasf\",\"1\", \"123\", 123])"
   ]
  },
  {
   "cell_type": "code",
   "execution_count": 40,
   "id": "f91646e0",
   "metadata": {},
   "outputs": [],
   "source": [
    "#The &quot;Reverser&quot; takes a string as input and returns that string in reverse order, with the\n",
    "#opposite case.\n",
    "\n",
    "def Reverser(s):\n",
    "    l=list(s)\n",
    "    #print(l)\n",
    "    y=\"\"\n",
    "    t= [l[i].swapcase() for i in range(len(l)-1,-1,-1)]\n",
    "    return (\"\").join(t)\n",
    "\n",
    "        \n",
    "    \n"
   ]
  },
  {
   "cell_type": "code",
   "execution_count": 41,
   "id": "8d122efb",
   "metadata": {},
   "outputs": [
    {
     "data": {
      "text/plain": [
       "'DLROw OLLEh'"
      ]
     },
     "execution_count": 41,
     "metadata": {},
     "output_type": "execute_result"
    }
   ],
   "source": [
    "Reverser(\"Hello World\")"
   ]
  },
  {
   "cell_type": "code",
   "execution_count": 27,
   "id": "1cb6f823",
   "metadata": {},
   "outputs": [
    {
     "name": "stdout",
     "output_type": "stream",
     "text": [
      "3\n",
      "2\n",
      "1\n"
     ]
    }
   ],
   "source": [
    "l=\"LeK\"\n",
    "for i in range(len(l),0,-1):\n",
    "    print(i)"
   ]
  },
  {
   "cell_type": "code",
   "execution_count": 51,
   "id": "7a83e586",
   "metadata": {},
   "outputs": [],
   "source": [
    "#firstmiddlelast\n",
    "n=[1,2,3,4,5,6,6,7,7,7,4,255,4,6]\n",
    "\n",
    "first=n[0]\n",
    "middle=n[1:-1]\n",
    "last=n[-1]\n",
    "    "
   ]
  },
  {
   "cell_type": "code",
   "execution_count": 52,
   "id": "0c089721",
   "metadata": {},
   "outputs": [
    {
     "data": {
      "text/plain": [
       "1"
      ]
     },
     "execution_count": 52,
     "metadata": {},
     "output_type": "execute_result"
    }
   ],
   "source": [
    "first"
   ]
  },
  {
   "cell_type": "code",
   "execution_count": 53,
   "id": "7911a8c8",
   "metadata": {},
   "outputs": [
    {
     "data": {
      "text/plain": [
       "[2, 3, 4, 5, 6, 6, 7, 7, 7, 4, 255, 4]"
      ]
     },
     "execution_count": 53,
     "metadata": {},
     "output_type": "execute_result"
    }
   ],
   "source": [
    "middle"
   ]
  },
  {
   "cell_type": "code",
   "execution_count": 54,
   "id": "809a67f1",
   "metadata": {},
   "outputs": [
    {
     "data": {
      "text/plain": [
       "6"
      ]
     },
     "execution_count": 54,
     "metadata": {},
     "output_type": "execute_result"
    }
   ],
   "source": [
    "last"
   ]
  },
  {
   "cell_type": "code",
   "execution_count": 45,
   "id": "641c2249",
   "metadata": {},
   "outputs": [],
   "source": [
    "#Write a function that calculates the factorial of a number recursively.\n",
    "\n",
    "def fact(n):\n",
    "    \n",
    "    if n==0:\n",
    "        return 1\n",
    "    if n==1:\n",
    "        return 1\n",
    "    return n*fact(n-1)"
   ]
  },
  {
   "cell_type": "code",
   "execution_count": 47,
   "id": "aef2eb3b",
   "metadata": {},
   "outputs": [
    {
     "data": {
      "text/plain": [
       "24"
      ]
     },
     "execution_count": 47,
     "metadata": {},
     "output_type": "execute_result"
    }
   ],
   "source": [
    "fact(4)"
   ]
  },
  {
   "cell_type": "code",
   "execution_count": 43,
   "id": "8be049e7",
   "metadata": {},
   "outputs": [],
   "source": [
    "#move_to_end([1, 3, 2, 4, 4, 1], 1)\n",
    "\n",
    "def mov2end(l,n):\n",
    "    lnew=[]\n",
    "    j=0\n",
    "    for i in l:\n",
    "        if i!=n:\n",
    "            lnew.append(i)\n",
    "        else:\n",
    "            j+=1\n",
    "    for k in range(j):\n",
    "        lnew.append(i)\n",
    "    return lnew"
   ]
  },
  {
   "cell_type": "code",
   "execution_count": 44,
   "id": "b46ba9bf",
   "metadata": {},
   "outputs": [
    {
     "data": {
      "text/plain": [
       "[3, 2, 4, 4, 1, 1]"
      ]
     },
     "execution_count": 44,
     "metadata": {},
     "output_type": "execute_result"
    }
   ],
   "source": [
    "mov2end([1, 3, 2, 4, 4, 1], 1)"
   ]
  },
  {
   "cell_type": "code",
   "execution_count": null,
   "id": "195bedd1",
   "metadata": {},
   "outputs": [],
   "source": []
  }
 ],
 "metadata": {
  "kernelspec": {
   "display_name": "Python 3 (ipykernel)",
   "language": "python",
   "name": "python3"
  },
  "language_info": {
   "codemirror_mode": {
    "name": "ipython",
    "version": 3
   },
   "file_extension": ".py",
   "mimetype": "text/x-python",
   "name": "python",
   "nbconvert_exporter": "python",
   "pygments_lexer": "ipython3",
   "version": "3.9.7"
  }
 },
 "nbformat": 4,
 "nbformat_minor": 5
}
