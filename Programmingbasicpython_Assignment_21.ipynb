{
 "cells": [
  {
   "cell_type": "code",
   "execution_count": 1,
   "id": "330e6eb7",
   "metadata": {},
   "outputs": [],
   "source": [
    "#Write a function that takes a list and a number as arguments. Add the number to the end of\n",
    "#the list, then remove the first element of the list. The function should then return the updated\n",
    "#list.\n",
    "\n",
    "def next_in_line(n,k):\n",
    "    n.append(k)\n",
    "    del n[0]\n",
    "    return n"
   ]
  },
  {
   "cell_type": "code",
   "execution_count": 2,
   "id": "5d933a3d",
   "metadata": {},
   "outputs": [
    {
     "data": {
      "text/plain": [
       "[3, 4, 5, 6, 1]"
      ]
     },
     "execution_count": 2,
     "metadata": {},
     "output_type": "execute_result"
    }
   ],
   "source": [
    "next_in_line([2,3,4,5,6],1)"
   ]
  },
  {
   "cell_type": "code",
   "execution_count": 3,
   "id": "5adc8209",
   "metadata": {},
   "outputs": [],
   "source": [
    "#Create the function that takes a list of dictionaries and returns the sum of people&#39;s budgets.\n",
    "\n",
    "def getbudget(n):\n",
    "    s=0\n",
    "    for i in n:\n",
    "        s+= i[\"budget\"] \n",
    "    return s"
   ]
  },
  {
   "cell_type": "code",
   "execution_count": 5,
   "id": "ff515adb",
   "metadata": {},
   "outputs": [
    {
     "data": {
      "text/plain": [
       "65700"
      ]
     },
     "execution_count": 5,
     "metadata": {},
     "output_type": "execute_result"
    }
   ],
   "source": [
    "getbudget([\n",
    "{ \"name\": \"John\", \"age\": 21, \"budget\": 23000 },\n",
    "    { \"name\": \"Steve\", \"age\": 32, \"budget\": 40000 },\n",
    "    { \"name\": \"Martin\", \"age\": 16, \"budget\": 2700 }\n",
    "\n",
    "])"
   ]
  },
  {
   "cell_type": "code",
   "execution_count": 6,
   "id": "73f5b274",
   "metadata": {},
   "outputs": [],
   "source": [
    "#Create a function that takes a string and returns a string with its letters in alphabetical order.\n",
    "\n",
    "def alphabet_soup(n):\n",
    "    l=list(n)\n",
    "    n=sorted(n)\n",
    "    return (\"\").join(n)"
   ]
  },
  {
   "cell_type": "code",
   "execution_count": 9,
   "id": "47f334b4",
   "metadata": {},
   "outputs": [
    {
     "data": {
      "text/plain": [
       "'acehkr'"
      ]
     },
     "execution_count": 9,
     "metadata": {},
     "output_type": "execute_result"
    }
   ],
   "source": [
    "alphabet_soup(\"hacker\")"
   ]
  },
  {
   "cell_type": "code",
   "execution_count": 16,
   "id": "b7d1d180",
   "metadata": {},
   "outputs": [],
   "source": [
    "#Q4\n",
    "def compoundint(P,t,r,n):\n",
    "    return round(P* pow((1+(r/n)),(n*t)),2)"
   ]
  },
  {
   "cell_type": "code",
   "execution_count": 17,
   "id": "13ffb08b",
   "metadata": {},
   "outputs": [
    {
     "name": "stdout",
     "output_type": "stream",
     "text": [
      "105.0\n",
      "15399.26\n"
     ]
    }
   ],
   "source": [
    "print(compoundint(100, 1, 0.05, 1))\n",
    "print(compoundint(3500, 15, 0.1, 4))"
   ]
  },
  {
   "cell_type": "code",
   "execution_count": 22,
   "id": "067c6257",
   "metadata": {},
   "outputs": [],
   "source": [
    "#Write a function that takes a list of elements and returns only the integers.\n",
    "\n",
    "def filter_number(n):\n",
    "    l=[]\n",
    "    for i in range(len(n)):\n",
    "        if type(n[i])==int:\n",
    "            l.append(n[i])\n",
    "    return l"
   ]
  },
  {
   "cell_type": "code",
   "execution_count": 23,
   "id": "d080d1e4",
   "metadata": {},
   "outputs": [
    {
     "data": {
      "text/plain": [
       "[6, 7, 8]"
      ]
     },
     "execution_count": 23,
     "metadata": {},
     "output_type": "execute_result"
    }
   ],
   "source": [
    "filter_number([\"asd\",9.0,6,7,8,\"ggg\",4.5])"
   ]
  },
  {
   "cell_type": "code",
   "execution_count": null,
   "id": "a886f392",
   "metadata": {},
   "outputs": [],
   "source": []
  }
 ],
 "metadata": {
  "kernelspec": {
   "display_name": "Python 3 (ipykernel)",
   "language": "python",
   "name": "python3"
  },
  "language_info": {
   "codemirror_mode": {
    "name": "ipython",
    "version": 3
   },
   "file_extension": ".py",
   "mimetype": "text/x-python",
   "name": "python",
   "nbconvert_exporter": "python",
   "pygments_lexer": "ipython3",
   "version": "3.9.7"
  }
 },
 "nbformat": 4,
 "nbformat_minor": 5
}
