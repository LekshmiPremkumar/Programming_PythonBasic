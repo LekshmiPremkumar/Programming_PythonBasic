{
 "cells": [
  {
   "cell_type": "code",
   "execution_count": 1,
   "id": "21c83797",
   "metadata": {},
   "outputs": [],
   "source": [
    "#Python program to convert kilometers to miles\n",
    "def km2mile(a):\n",
    "    return 0.62137*a"
   ]
  },
  {
   "cell_type": "code",
   "execution_count": 4,
   "id": "e30c3537",
   "metadata": {},
   "outputs": [
    {
     "name": "stdout",
     "output_type": "stream",
     "text": [
      "Enter km to convert to mile7\n",
      "7.0 kilometer equals 4.34959 miles\n"
     ]
    }
   ],
   "source": [
    "a=float(input(\"Enter km to convert to mile\"))\n",
    "print(f'{a} kilometer equals {km2mile(a)} miles')"
   ]
  },
  {
   "cell_type": "code",
   "execution_count": 8,
   "id": "7539b887",
   "metadata": {},
   "outputs": [],
   "source": [
    "#Python program to convert Celsius to Fahrenheit\n",
    "def Celsius2Fahrenhiet(a):\n",
    "    return (32+((9/5)*a))"
   ]
  },
  {
   "cell_type": "code",
   "execution_count": 10,
   "id": "9cd9bdfd",
   "metadata": {},
   "outputs": [
    {
     "name": "stdout",
     "output_type": "stream",
     "text": [
      "Enter Celsius to convert to Fahrenheit 0\n",
      "0.0 Celsius equals 32.0 Fahrenheit\n"
     ]
    }
   ],
   "source": [
    "a=float(input(\"Enter Celsius to convert to Fahrenheit \"))\n",
    "print(f'{a} Celsius equals {Celsius2Fahrenhiet(a)} Fahrenheit')"
   ]
  },
  {
   "cell_type": "code",
   "execution_count": 15,
   "id": "9f3f963b",
   "metadata": {},
   "outputs": [
    {
     "name": "stdout",
     "output_type": "stream",
     "text": [
      "Enter year and month separated by a coma2021,12\n",
      "   December 2021\n",
      "Mo Tu We Th Fr Sa Su\n",
      "       1  2  3  4  5\n",
      " 6  7  8  9 10 11 12\n",
      "13 14 15 16 17 18 19\n",
      "20 21 22 23 24 25 26\n",
      "27 28 29 30 31\n",
      "\n"
     ]
    }
   ],
   "source": [
    "#Python program to display calendar\n",
    "\n",
    "import calendar\n",
    "\n",
    "# To take month and year input from the user\n",
    "year,month = map(int,input(\"Enter year and month separated by a coma\").split(\",\"))\n",
    "\n",
    "\n",
    "# display the calendar\n",
    "print(calendar.month(year, month))"
   ]
  },
  {
   "cell_type": "code",
   "execution_count": 26,
   "id": "19b96f80",
   "metadata": {},
   "outputs": [
    {
     "name": "stdout",
     "output_type": "stream",
     "text": [
      "Enter year and month separated by a coma1,4,4\n",
      "Solutions of the quadratic equations are  [(-2+0j), (-2+0j)]\n"
     ]
    }
   ],
   "source": [
    "#python program to solve quadratic equation\n",
    "import cmath\n",
    "l=[]\n",
    "a,b,c = map(int,input(\"Enter a,b,c separated by a coma\").split(\",\"))\n",
    "l.append((-b+cmath.sqrt(b**2-4*a*c))/(2*a))\n",
    "l.append((-b-cmath.sqrt(b**2-4*a*c))/(2*a))\n",
    "print(\"Solutions of the quadratic equations are \", l)"
   ]
  },
  {
   "cell_type": "code",
   "execution_count": 27,
   "id": "5a09e400",
   "metadata": {},
   "outputs": [],
   "source": [
    "#program to swap two numbers\n",
    "def swap(a,b):\n",
    "    return b,a"
   ]
  },
  {
   "cell_type": "code",
   "execution_count": 28,
   "id": "d1fbf567",
   "metadata": {},
   "outputs": [
    {
     "name": "stdout",
     "output_type": "stream",
     "text": [
      "Enter 2 numbers with a coma as separator to swap 3,6\n",
      "After swaping a and b are 6.0 and 3.0 respectively\n"
     ]
    }
   ],
   "source": [
    "a,b=map(float,input(\"Enter 2 numbers with a coma as separator to swap \").split(\",\"))\n",
    "k=swap(a,b)\n",
    "print(f'After swaping a and b are {k[0]} and {k[1]} respectively')"
   ]
  },
  {
   "cell_type": "code",
   "execution_count": null,
   "id": "2b962b88",
   "metadata": {},
   "outputs": [],
   "source": []
  },
  {
   "cell_type": "code",
   "execution_count": null,
   "id": "799d5271",
   "metadata": {},
   "outputs": [],
   "source": []
  },
  {
   "cell_type": "code",
   "execution_count": null,
   "id": "62c45d43",
   "metadata": {},
   "outputs": [],
   "source": []
  },
  {
   "cell_type": "code",
   "execution_count": null,
   "id": "f6bd50f5",
   "metadata": {},
   "outputs": [],
   "source": []
  }
 ],
 "metadata": {
  "kernelspec": {
   "display_name": "Python 3 (ipykernel)",
   "language": "python",
   "name": "python3"
  },
  "language_info": {
   "codemirror_mode": {
    "name": "ipython",
    "version": 3
   },
   "file_extension": ".py",
   "mimetype": "text/x-python",
   "name": "python",
   "nbconvert_exporter": "python",
   "pygments_lexer": "ipython3",
   "version": "3.9.7"
  }
 },
 "nbformat": 4,
 "nbformat_minor": 5
}
