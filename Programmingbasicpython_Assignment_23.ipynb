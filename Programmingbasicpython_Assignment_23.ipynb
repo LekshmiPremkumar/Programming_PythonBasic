{
 "cells": [
  {
   "cell_type": "code",
   "execution_count": 14,
   "id": "35581880",
   "metadata": {},
   "outputs": [],
   "source": [
    "#Create a function that takes a number as an argument and returns True or False depending\n",
    "#on whether the number is symmetrical or not. A number is symmetrical when it is the same as\n",
    "#its reverse.\n",
    "\n",
    "def isSymm(n):\n",
    "    l=list(str(n))\n",
    "    f=0\n",
    "    for i in range(int(len(l)/2)):\n",
    "        #print(i,len(l)-i-1)\n",
    "        if l[i]!=l[len(l)-i-1]:\n",
    "            f=1\n",
    "    if f==1:\n",
    "        print(False)\n",
    "    else:\n",
    "        print(True)\n",
    "            "
   ]
  },
  {
   "cell_type": "code",
   "execution_count": 17,
   "id": "0c5e7ffc",
   "metadata": {},
   "outputs": [
    {
     "name": "stdout",
     "output_type": "stream",
     "text": [
      "True\n"
     ]
    }
   ],
   "source": [
    "isSymm(1223221)"
   ]
  },
  {
   "cell_type": "code",
   "execution_count": 19,
   "id": "82a755d4",
   "metadata": {},
   "outputs": [],
   "source": [
    "#Given a string of numbers separated by a comma and space, return the product of the numbers.\n",
    "\n",
    "def productString(n):\n",
    "    l=map(int,n.split(\", \"))\n",
    "    p=1\n",
    "    for i in l:\n",
    "        p*=i\n",
    "    return p"
   ]
  },
  {
   "cell_type": "code",
   "execution_count": 22,
   "id": "49bbe8a3",
   "metadata": {},
   "outputs": [
    {
     "data": {
      "text/plain": [
       "-24"
      ]
     },
     "execution_count": 22,
     "metadata": {},
     "output_type": "execute_result"
    }
   ],
   "source": [
    "productString(\"2, 3, 4, -1\")"
   ]
  },
  {
   "cell_type": "code",
   "execution_count": 26,
   "id": "63065fc8",
   "metadata": {},
   "outputs": [],
   "source": [
    "#Create a function that squares every digit of a number.\n",
    "\n",
    "def squareofno(n):\n",
    "    y=\"\"\n",
    "    l=list(str(n))\n",
    "    for i in l:\n",
    "        y+=str(pow(int(i),2))\n",
    "  \n",
    "    return y"
   ]
  },
  {
   "cell_type": "code",
   "execution_count": 30,
   "id": "0a1442a5",
   "metadata": {},
   "outputs": [
    {
     "data": {
      "text/plain": [
       "'811181'"
      ]
     },
     "execution_count": 30,
     "metadata": {},
     "output_type": "execute_result"
    }
   ],
   "source": [
    "squareofno(9119)"
   ]
  },
  {
   "cell_type": "code",
   "execution_count": 36,
   "id": "f28d7257",
   "metadata": {},
   "outputs": [],
   "source": [
    "#Create a function that sorts a list and removes all duplicate items from it.\n",
    "\n",
    "def sortremove(n):\n",
    "    return sorted(list(set(n)))"
   ]
  },
  {
   "cell_type": "code",
   "execution_count": 37,
   "id": "bc95cf60",
   "metadata": {},
   "outputs": [
    {
     "data": {
      "text/plain": [
       "[1, 2, 12, 21, 43, 44]"
      ]
     },
     "execution_count": 37,
     "metadata": {},
     "output_type": "execute_result"
    }
   ],
   "source": [
    "sortremove([21,12,12,44,44,43,43,1,2])"
   ]
  },
  {
   "cell_type": "code",
   "execution_count": 46,
   "id": "9fe3d34a",
   "metadata": {},
   "outputs": [],
   "source": [
    "#Create a function that returns the mean of all digits.\n",
    "\n",
    "def meanofdigits(n):\n",
    "    i=0\n",
    "    s=0\n",
    "    while n!=0:\n",
    "        s+=(n%10)\n",
    "        n=n//10\n",
    "        i+=1\n",
    "        \n",
    "    return int(s/i)"
   ]
  },
  {
   "cell_type": "code",
   "execution_count": 47,
   "id": "d9cbf6b3",
   "metadata": {},
   "outputs": [
    {
     "name": "stdout",
     "output_type": "stream",
     "text": [
      "enter the number 12345\n",
      "Mean of digits of 12345 is 3\n"
     ]
    }
   ],
   "source": [
    "n=int(input(\"enter the number \"))\n",
    "print(f'Mean of digits of {n} is {meanofdigits(n)}')\n"
   ]
  },
  {
   "cell_type": "code",
   "execution_count": null,
   "id": "e9962ebc",
   "metadata": {},
   "outputs": [],
   "source": []
  }
 ],
 "metadata": {
  "kernelspec": {
   "display_name": "Python 3 (ipykernel)",
   "language": "python",
   "name": "python3"
  },
  "language_info": {
   "codemirror_mode": {
    "name": "ipython",
    "version": 3
   },
   "file_extension": ".py",
   "mimetype": "text/x-python",
   "name": "python",
   "nbconvert_exporter": "python",
   "pygments_lexer": "ipython3",
   "version": "3.9.7"
  }
 },
 "nbformat": 4,
 "nbformat_minor": 5
}
