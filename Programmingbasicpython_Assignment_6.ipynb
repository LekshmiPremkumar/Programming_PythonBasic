{
 "cells": [
  {
   "cell_type": "code",
   "execution_count": 3,
   "id": "0d4aa65b",
   "metadata": {},
   "outputs": [],
   "source": [
    "#Python Program to Display Fibonacci Sequence Using Recursion\n",
    "\n",
    "def fib(n):\n",
    "    if n==0:\n",
    "        return 0\n",
    "    if n==1:\n",
    "        return 1\n",
    "    y=fib(n-1)+fib(n-2)\n",
    "    return y"
   ]
  },
  {
   "cell_type": "code",
   "execution_count": 15,
   "id": "7c2a8697",
   "metadata": {},
   "outputs": [],
   "source": [
    "def fibseq(l):\n",
    "    lis=[]\n",
    "    for i in range(l):\n",
    "        lis.append(fib(i))\n",
    "    print(lis)"
   ]
  },
  {
   "cell_type": "code",
   "execution_count": 16,
   "id": "b32f3b8c",
   "metadata": {},
   "outputs": [
    {
     "name": "stdout",
     "output_type": "stream",
     "text": [
      "Enter the length of fibonacci sequence that you wish to print 8\n",
      "[0, 1, 1, 2, 3, 5, 8, 13]\n"
     ]
    }
   ],
   "source": [
    "num=int(input(\"Enter the length of fibonacci sequence that you wish to print \"))\n",
    "fibseq(num)"
   ]
  },
  {
   "cell_type": "code",
   "execution_count": 13,
   "id": "42a6ce3f",
   "metadata": {},
   "outputs": [],
   "source": [
    "#fibonacci without recursion\n",
    "def fibo(l):\n",
    "    lis=[]\n",
    "    lis.append(0)\n",
    "    lis.append(1)\n",
    "    for i in range(2,l):\n",
    "        lis.append(lis[i-2]+lis[i-1])\n",
    "    print(lis)\n",
    "        \n",
    "        "
   ]
  },
  {
   "cell_type": "code",
   "execution_count": 14,
   "id": "fd5fbdf4",
   "metadata": {},
   "outputs": [
    {
     "name": "stdout",
     "output_type": "stream",
     "text": [
      "Enter the length of fibonacci sequence that you wish to print 8\n",
      "[0, 1, 1, 2, 3, 5, 8, 13]\n"
     ]
    }
   ],
   "source": [
    "num=int(input(\"Enter the length of fibonacci sequence that you wish to print \"))\n",
    "fibo(num)"
   ]
  },
  {
   "cell_type": "code",
   "execution_count": 21,
   "id": "d1a7998f",
   "metadata": {},
   "outputs": [],
   "source": [
    "#Python Program to Find Factorial of Number Using Recursion\n",
    "\n",
    "def fact(n):\n",
    "    if n==0:\n",
    "        return 1\n",
    "    if n==1:\n",
    "        return 1\n",
    "    return n*fact(n-1)\n"
   ]
  },
  {
   "cell_type": "code",
   "execution_count": 22,
   "id": "8a835f23",
   "metadata": {},
   "outputs": [
    {
     "name": "stdout",
     "output_type": "stream",
     "text": [
      "Enter the number to find the factorial 9\n",
      "Factoral of 9 is 362880\n"
     ]
    }
   ],
   "source": [
    "num=int(input(\"Enter the number to find the factorial \"))\n",
    "print(f'Factoral of {num} is {fact(num)}')"
   ]
  },
  {
   "cell_type": "code",
   "execution_count": 23,
   "id": "1db9c2e2",
   "metadata": {},
   "outputs": [],
   "source": [
    "#Python Program to calculate your Body Mass Index\n",
    "\n",
    "def BMI(ht,wt):\n",
    "    return ((wt/ht/ht)*10000)"
   ]
  },
  {
   "cell_type": "code",
   "execution_count": 52,
   "id": "89888753",
   "metadata": {},
   "outputs": [
    {
     "name": "stdout",
     "output_type": "stream",
     "text": [
      "Enter the ht and weight with a coma as separator(format:- ht,wt)  161.3,52.8\n",
      "BMI of the person is 20.2939\n"
     ]
    }
   ],
   "source": [
    "ht,wt=map(float,input(\"Enter the ht and weight with a coma as separator(format:- ht,wt)  \").split(\",\"))\n",
    "print(f'BMI of the person is {BMI(ht,wt):0.4f}')"
   ]
  },
  {
   "cell_type": "code",
   "execution_count": 50,
   "id": "419ea640",
   "metadata": {},
   "outputs": [],
   "source": [
    "#Program to calculate the natural logarithm of any number\n",
    "import math\n",
    "def log(num):\n",
    "    if num>0:\n",
    "        return math.log(num)\n",
    "    else:\n",
    "        try:\n",
    "            return math.log(1/abs(num))\n",
    "        except Exception as e:\n",
    "            return(\"There is an error- \",e)\n",
    "    \n",
    "          "
   ]
  },
  {
   "cell_type": "code",
   "execution_count": 51,
   "id": "3ab60a89",
   "metadata": {},
   "outputs": [
    {
     "name": "stdout",
     "output_type": "stream",
     "text": [
      "Enter the number -7\n"
     ]
    },
    {
     "data": {
      "text/plain": [
       "-1.9459101490553135"
      ]
     },
     "execution_count": 51,
     "metadata": {},
     "output_type": "execute_result"
    }
   ],
   "source": [
    "num=int(input(\"Enter the number \"))\n",
    "log(num)"
   ]
  },
  {
   "cell_type": "code",
   "execution_count": 36,
   "id": "4b1a0094",
   "metadata": {},
   "outputs": [],
   "source": [
    "#Python Program for cube sum of first n natural numbers\n",
    "\n",
    "def cubesum_nat(n):\n",
    "    s=0\n",
    "    for i in range(n+1):\n",
    "        s=s+pow(i,3)\n",
    "    return s"
   ]
  },
  {
   "cell_type": "code",
   "execution_count": 37,
   "id": "cbf21ca6",
   "metadata": {},
   "outputs": [
    {
     "name": "stdout",
     "output_type": "stream",
     "text": [
      "Enter the number 5\n",
      "Sum of cubes of all natural numbers till 5 is 225\n"
     ]
    }
   ],
   "source": [
    "num=int(input(\"Enter the number \"))\n",
    "print(f'Sum of cubes of all natural numbers till {num} is {cubesum_nat(num)}')"
   ]
  },
  {
   "cell_type": "code",
   "execution_count": null,
   "id": "f668b388",
   "metadata": {},
   "outputs": [],
   "source": []
  }
 ],
 "metadata": {
  "kernelspec": {
   "display_name": "Python 3 (ipykernel)",
   "language": "python",
   "name": "python3"
  },
  "language_info": {
   "codemirror_mode": {
    "name": "ipython",
    "version": 3
   },
   "file_extension": ".py",
   "mimetype": "text/x-python",
   "name": "python",
   "nbconvert_exporter": "python",
   "pygments_lexer": "ipython3",
   "version": "3.9.7"
  }
 },
 "nbformat": 4,
 "nbformat_minor": 5
}
