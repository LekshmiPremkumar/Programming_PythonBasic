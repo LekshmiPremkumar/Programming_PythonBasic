{
 "cells": [
  {
   "cell_type": "code",
   "execution_count": 1,
   "id": "ddb5e353",
   "metadata": {},
   "outputs": [],
   "source": [
    "#Python Program to find sum of array\n",
    "def arr_sum(Arr):\n",
    "    s=0\n",
    "    for i in range(len(Arr)):\n",
    "        s=s+Arr[i]\n",
    "    \n",
    "    return s\n"
   ]
  },
  {
   "cell_type": "code",
   "execution_count": 12,
   "id": "1750ecaf",
   "metadata": {},
   "outputs": [
    {
     "name": "stdout",
     "output_type": "stream",
     "text": [
      "Enter the len of array 5\n",
      "Enter array element 1\n",
      "Enter array element 2\n",
      "Enter array element 3\n",
      "Enter array element 4\n",
      "Enter array element 5\n",
      "The array is  [1, 2, 3, 4, 5]\n",
      "Sum of the array is 15\n"
     ]
    }
   ],
   "source": [
    "n = int(input(\"Enter the len of array \"))\n",
    "Arr=[int(input(\"Enter array element \")) for i in range(n)]\n",
    "print(\"The array is \",Arr)\n",
    "print(f'Sum of the array is {arr_sum(Arr)}')"
   ]
  },
  {
   "cell_type": "code",
   "execution_count": 13,
   "id": "5381966d",
   "metadata": {},
   "outputs": [],
   "source": [
    "#Python Program to find largest element in an array\n",
    "\n",
    "def maxArr(Arr):\n",
    "    max=Arr[0]\n",
    "    for i in range(len(Arr)):\n",
    "        if max<Arr[i]:\n",
    "            max=Arr[i]\n",
    "    return max\n",
    "        \n",
    "    "
   ]
  },
  {
   "cell_type": "code",
   "execution_count": 14,
   "id": "c0cea37e",
   "metadata": {},
   "outputs": [
    {
     "name": "stdout",
     "output_type": "stream",
     "text": [
      "Enter the len of array 5\n",
      "Enter array element 1\n",
      "Enter array element 2\n",
      "Enter array element 3\n",
      "Enter array element 44\n",
      "Enter array element 5\n",
      "The array is  [1, 2, 3, 44, 5]\n",
      "Max value in the array is 44\n"
     ]
    }
   ],
   "source": [
    "n = int(input(\"Enter the len of array \"))\n",
    "Arr=[int(input(\"Enter array element \")) for i in range(n)]\n",
    "print(\"The array is \",Arr)\n",
    "print(f'Max value in the array is {maxArr(Arr)}')"
   ]
  },
  {
   "cell_type": "code",
   "execution_count": 10,
   "id": "8d8e1a0c",
   "metadata": {},
   "outputs": [],
   "source": [
    "#Python Program for array rotation\n",
    "\n",
    "def rotArr(Arr):\n",
    "    temp=Arr[0]\n",
    "    for i in range(1,len(Arr)):\n",
    "        Arr[i-1]=Arr[i]        \n",
    "    Arr[i]=temp    \n",
    "    return Arr\n",
    "    \n"
   ]
  },
  {
   "cell_type": "code",
   "execution_count": 11,
   "id": "3418a3a0",
   "metadata": {},
   "outputs": [
    {
     "name": "stdout",
     "output_type": "stream",
     "text": [
      "Enter the len of array 5\n",
      "Enter array element 1\n",
      "Enter array element 2\n",
      "Enter array element 3\n",
      "Enter array element 4\n",
      "Enter array element 5\n",
      "The array is  [1, 2, 3, 4, 5]\n",
      "Rotated array is [2, 3, 4, 5, 1]\n"
     ]
    }
   ],
   "source": [
    "n = int(input(\"Enter the len of array \"))\n",
    "Arr=[int(input(\"Enter array element \")) for i in range(n)]\n",
    "print(\"The array is \",Arr)\n",
    "print(f'Rotated array is {rotArr(Arr)}')"
   ]
  },
  {
   "cell_type": "code",
   "execution_count": 15,
   "id": "b88b6a64",
   "metadata": {},
   "outputs": [],
   "source": [
    "#Python Program to Split the array and add the first part to the end\n",
    "\n",
    "def splitMergeArr(Ar):\n",
    "    for i in range(int(len(Ar)/2)):\n",
    "        Ar=rotArr(Ar)#using the function for array rotation\n",
    "    return Ar\n"
   ]
  },
  {
   "cell_type": "code",
   "execution_count": 17,
   "id": "11311876",
   "metadata": {},
   "outputs": [
    {
     "name": "stdout",
     "output_type": "stream",
     "text": [
      "Enter the len of array 10\n",
      "Enter array element 11\n",
      "Enter array element 22\n",
      "Enter array element 33\n",
      "Enter array element 44\n",
      "Enter array element 55\n",
      "Enter array element 66\n",
      "Enter array element 77\n",
      "Enter array element 88\n",
      "Enter array element 99\n",
      "Enter array element 100\n",
      "The array is  [11, 22, 33, 44, 55, 66, 77, 88, 99, 100]\n",
      "Split and merged array is [66, 77, 88, 99, 100, 11, 22, 33, 44, 55]\n"
     ]
    }
   ],
   "source": [
    "n = int(input(\"Enter the len of array \"))\n",
    "Arr=[int(input(\"Enter array element \")) for i in range(n)]\n",
    "print(\"The array is \",Arr)\n",
    "print(f'Split and merged array is {splitMergeArr(Arr)}')"
   ]
  },
  {
   "cell_type": "code",
   "execution_count": 20,
   "id": "44475a9f",
   "metadata": {},
   "outputs": [],
   "source": [
    "#Python Program to check if given array is Monotonic\n",
    "\n",
    "def isMonotonic(Arr):\n",
    "    flag=0\n",
    "    for i in range(1,len(Arr)):\n",
    "        if Arr[i]<Arr[i-1]:\n",
    "            flag=1\n",
    "            break\n",
    "    \n",
    "    if flag==0:\n",
    "        return \"is monotonic\"\n",
    "    else:\n",
    "        return \"is not monotonic\"\n",
    "            \n",
    "            \n"
   ]
  },
  {
   "cell_type": "code",
   "execution_count": 25,
   "id": "d4326559",
   "metadata": {},
   "outputs": [
    {
     "name": "stdout",
     "output_type": "stream",
     "text": [
      "Enter the len of array 5\n",
      "Enter array element 1\n",
      "Enter array element 3\n",
      "Enter array element 2\n",
      "Enter array element 4\n",
      "Enter array element 5\n",
      "The array is  [1, 3, 2, 4, 5]\n",
      "The array is is not monotonic\n"
     ]
    }
   ],
   "source": [
    "n = int(input(\"Enter the len of array \"))\n",
    "Arr=[int(input(\"Enter array element \")) for i in range(n)]\n",
    "print(\"The array is \",Arr)\n",
    "print(f'The array is {isMonotonic(Arr)}')\n",
    "    "
   ]
  },
  {
   "cell_type": "code",
   "execution_count": null,
   "id": "fb6c10f9",
   "metadata": {},
   "outputs": [],
   "source": []
  },
  {
   "cell_type": "code",
   "execution_count": null,
   "id": "704c7e59",
   "metadata": {},
   "outputs": [],
   "source": []
  },
  {
   "cell_type": "code",
   "execution_count": null,
   "id": "18bf8ead",
   "metadata": {},
   "outputs": [],
   "source": []
  }
 ],
 "metadata": {
  "kernelspec": {
   "display_name": "Python 3 (ipykernel)",
   "language": "python",
   "name": "python3"
  },
  "language_info": {
   "codemirror_mode": {
    "name": "ipython",
    "version": 3
   },
   "file_extension": ".py",
   "mimetype": "text/x-python",
   "name": "python",
   "nbconvert_exporter": "python",
   "pygments_lexer": "ipython3",
   "version": "3.9.7"
  }
 },
 "nbformat": 4,
 "nbformat_minor": 5
}
