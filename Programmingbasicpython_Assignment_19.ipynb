{
 "cells": [
  {
   "cell_type": "code",
   "execution_count": 1,
   "id": "f4e69f0c",
   "metadata": {},
   "outputs": [],
   "source": [
    "#Create a function that takes a string and returns a string in which each character is repeated once.\n",
    "\n",
    "def doublechar(n):\n",
    "    y=\"\"\n",
    "    for i in range(len(n)):\n",
    "        y+=n[i]*2\n",
    "    return y"
   ]
  },
  {
   "cell_type": "code",
   "execution_count": 3,
   "id": "d2bcb9ad",
   "metadata": {},
   "outputs": [
    {
     "data": {
      "text/plain": [
       "'LLeekksshhmmii__!!'"
      ]
     },
     "execution_count": 3,
     "metadata": {},
     "output_type": "execute_result"
    }
   ],
   "source": [
    "doublechar(\"Lekshmi_!\")"
   ]
  },
  {
   "cell_type": "code",
   "execution_count": 7,
   "id": "cf6719b3",
   "metadata": {},
   "outputs": [],
   "source": [
    "#Create a function that reverses a boolean value and returns the string &quot;boolean expected&quot;\n",
    "#if another variable type is given.\n",
    "\n",
    "\n",
    "def reverse(n):\n",
    "    if type(n) is bool:\n",
    "        return not n\n",
    "    else:\n",
    "        return \"Boolean expected\""
   ]
  },
  {
   "cell_type": "code",
   "execution_count": 9,
   "id": "27a129e6",
   "metadata": {},
   "outputs": [
    {
     "name": "stdout",
     "output_type": "stream",
     "text": [
      "Boolean expected\n"
     ]
    },
    {
     "data": {
      "text/plain": [
       "False"
      ]
     },
     "execution_count": 9,
     "metadata": {},
     "output_type": "execute_result"
    }
   ],
   "source": [
    "print(reverse(0))\n",
    "reverse(True)"
   ]
  },
  {
   "cell_type": "code",
   "execution_count": 22,
   "id": "8ecbbc35",
   "metadata": {},
   "outputs": [],
   "source": [
    "#Create a function that returns the thickness (in meters) of a piece of paper after folding it n\n",
    "#number of times. The paper starts off with a thickness of 0.5mm.\n",
    "\n",
    "def thickness(n):\n",
    "    return 0.0005*pow(2,n)"
   ]
  },
  {
   "cell_type": "code",
   "execution_count": 24,
   "id": "68c89e29",
   "metadata": {},
   "outputs": [
    {
     "name": "stdout",
     "output_type": "stream",
     "text": [
      " The thickness is 1048.576 m\n"
     ]
    }
   ],
   "source": [
    "print(f' The thickness is {thickness(21)} m')"
   ]
  },
  {
   "cell_type": "code",
   "execution_count": 10,
   "id": "29f6aae3",
   "metadata": {},
   "outputs": [],
   "source": [
    "#Create a function that takes a single string as argument and returns an ordered list containing\n",
    "#the indices of all capital letters in the string.\n",
    "\n",
    "\n",
    "def indexofcaps(n):\n",
    "    l=list(n)\n",
    "    k=[]\n",
    "    for i in l:\n",
    "        if ord(i) in range(65, 91):\n",
    "            k.append(l.index(i))\n",
    "    return k"
   ]
  },
  {
   "cell_type": "code",
   "execution_count": 11,
   "id": "61f85229",
   "metadata": {},
   "outputs": [
    {
     "data": {
      "text/plain": [
       "[0, 2, 5]"
      ]
     },
     "execution_count": 11,
     "metadata": {},
     "output_type": "execute_result"
    }
   ],
   "source": [
    "indexofcaps(\"LeKshMi\")"
   ]
  },
  {
   "cell_type": "code",
   "execution_count": 13,
   "id": "a62b095e",
   "metadata": {},
   "outputs": [
    {
     "data": {
      "text/plain": [
       "[1, 3, 4, 6]"
      ]
     },
     "execution_count": 13,
     "metadata": {},
     "output_type": "execute_result"
    }
   ],
   "source": [
    "indexofcaps(\"eQuINoX\")"
   ]
  },
  {
   "cell_type": "code",
   "execution_count": 15,
   "id": "83e9d0bc",
   "metadata": {},
   "outputs": [],
   "source": [
    "#Using list comprehensions, create a function that finds all even numbers from 1 to the given\n",
    "#number.\n",
    "def evennos(n):\n",
    "    t=[i  for i in range(n) if i%2==0]\n",
    "    return t"
   ]
  },
  {
   "cell_type": "code",
   "execution_count": 16,
   "id": "cf7f46aa",
   "metadata": {},
   "outputs": [
    {
     "data": {
      "text/plain": [
       "[0, 2, 4, 6]"
      ]
     },
     "execution_count": 16,
     "metadata": {},
     "output_type": "execute_result"
    }
   ],
   "source": [
    "evennos(7)"
   ]
  },
  {
   "cell_type": "code",
   "execution_count": null,
   "id": "bffd649b",
   "metadata": {},
   "outputs": [],
   "source": []
  }
 ],
 "metadata": {
  "kernelspec": {
   "display_name": "Python 3 (ipykernel)",
   "language": "python",
   "name": "python3"
  },
  "language_info": {
   "codemirror_mode": {
    "name": "ipython",
    "version": 3
   },
   "file_extension": ".py",
   "mimetype": "text/x-python",
   "name": "python",
   "nbconvert_exporter": "python",
   "pygments_lexer": "ipython3",
   "version": "3.9.7"
  }
 },
 "nbformat": 4,
 "nbformat_minor": 5
}
