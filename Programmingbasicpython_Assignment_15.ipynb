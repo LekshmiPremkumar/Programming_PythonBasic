{
 "cells": [
  {
   "cell_type": "code",
   "execution_count": 5,
   "id": "d8e77063",
   "metadata": {},
   "outputs": [],
   "source": [
    "#Please write a program using generator to print the numbers which can be divisible by 5 and\n",
    "#7 between 0 and n in comma separated form while n is input by console.\n",
    "\n",
    "def factors(n):\n",
    "    for i in range(n):\n",
    "        if i%5==0 and i%7==0:\n",
    "            yield(i)"
   ]
  },
  {
   "cell_type": "code",
   "execution_count": 10,
   "id": "430266a0",
   "metadata": {},
   "outputs": [
    {
     "name": "stdout",
     "output_type": "stream",
     "text": [
      "Enter the number100\n",
      "0,35,70,"
     ]
    }
   ],
   "source": [
    "n=int(input(\"Enter the number\"))\n",
    "for i in factors(n):\n",
    "    print(i,end=\",\")"
   ]
  },
  {
   "cell_type": "code",
   "execution_count": 7,
   "id": "0cb90939",
   "metadata": {},
   "outputs": [],
   "source": [
    "#Please write a program using generator to print the even numbers between 0 and n in comma\n",
    "#separated form while n is input by console.\n",
    "\n",
    "def evennos(n):\n",
    "    for i in range(n):\n",
    "        if i%2==0:\n",
    "            yield(i)\n",
    "\n"
   ]
  },
  {
   "cell_type": "code",
   "execution_count": 9,
   "id": "cd5843ad",
   "metadata": {},
   "outputs": [
    {
     "name": "stdout",
     "output_type": "stream",
     "text": [
      "Enter the number11\n",
      "0,2,4,6,8,10,"
     ]
    }
   ],
   "source": [
    "\n",
    "n=int(input(\"Enter the number\"))\n",
    "for i in evennos(n):\n",
    "    print(i,end=\",\")"
   ]
  },
  {
   "cell_type": "code",
   "execution_count": 66,
   "id": "97aeed57",
   "metadata": {},
   "outputs": [],
   "source": [
    "#Please write a program using list comprehension to print the Fibonacci Sequence in comma\n",
    "#separated form with a given n input by console.\n",
    "\n",
    "def fiblist(n):\n",
    "    lis=[]\n",
    "    t=[lis.append(i) if i == 0  else lis.append(i) if i == 1 else lis.append(lis[i-1]+lis[i-2]) for i in range(n)]\n",
    "    return lis"
   ]
  },
  {
   "cell_type": "code",
   "execution_count": 67,
   "id": "c1245bde",
   "metadata": {},
   "outputs": [
    {
     "data": {
      "text/plain": [
       "[0, 1, 1, 2, 3, 5, 8, 13]"
      ]
     },
     "execution_count": 67,
     "metadata": {},
     "output_type": "execute_result"
    }
   ],
   "source": [
    "fiblist(8)\n",
    "\n"
   ]
  },
  {
   "cell_type": "code",
   "execution_count": 39,
   "id": "23d30e87",
   "metadata": {},
   "outputs": [],
   "source": [
    "#extract username\n",
    "\n",
    "def extractuser(email):\n",
    "    i=email.index(\"@\")\n",
    "    return email[:i]"
   ]
  },
  {
   "cell_type": "code",
   "execution_count": 40,
   "id": "6468235d",
   "metadata": {},
   "outputs": [
    {
     "data": {
      "text/plain": [
       "'john'"
      ]
     },
     "execution_count": 40,
     "metadata": {},
     "output_type": "execute_result"
    }
   ],
   "source": [
    "extractuser(\"john@google.com\")"
   ]
  },
  {
   "cell_type": "code",
   "execution_count": 55,
   "id": "57dba8d9",
   "metadata": {},
   "outputs": [],
   "source": [
    "#Define a class named Shape and its subclass Square. The Square class has an init function\n",
    "#which takes a length as argument. Both classes have a area function which can print the area\n",
    "#of the shape where Shape&#39;s area is 0 by default.\n",
    "\n",
    "class Shape:\n",
    "    def area(self):\n",
    "        print(f'The area is 0')\n",
    "\n",
    "class Square(Shape):\n",
    "    def __init__(self,l):\n",
    "              self.l=l\n",
    "    def area(self):\n",
    "              print(\"The area is \"+ str(self.l*self.l))"
   ]
  },
  {
   "cell_type": "code",
   "execution_count": 56,
   "id": "f556692d",
   "metadata": {},
   "outputs": [],
   "source": [
    "y=Square(6)"
   ]
  },
  {
   "cell_type": "code",
   "execution_count": 57,
   "id": "236de967",
   "metadata": {},
   "outputs": [
    {
     "name": "stdout",
     "output_type": "stream",
     "text": [
      "The area is 36\n"
     ]
    }
   ],
   "source": [
    "y.area()"
   ]
  },
  {
   "cell_type": "code",
   "execution_count": null,
   "id": "3204699e",
   "metadata": {},
   "outputs": [],
   "source": []
  }
 ],
 "metadata": {
  "kernelspec": {
   "display_name": "Python 3 (ipykernel)",
   "language": "python",
   "name": "python3"
  },
  "language_info": {
   "codemirror_mode": {
    "name": "ipython",
    "version": 3
   },
   "file_extension": ".py",
   "mimetype": "text/x-python",
   "name": "python",
   "nbconvert_exporter": "python",
   "pygments_lexer": "ipython3",
   "version": "3.9.7"
  }
 },
 "nbformat": 4,
 "nbformat_minor": 5
}
