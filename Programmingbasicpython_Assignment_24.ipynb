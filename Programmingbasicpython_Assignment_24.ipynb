{
 "cells": [
  {
   "cell_type": "code",
   "execution_count": 7,
   "id": "95b9da49",
   "metadata": {},
   "outputs": [],
   "source": [
    "#q1\n",
    "def amplify(n):\n",
    "    l=[]\n",
    "    for i in range(1,n+1):\n",
    "        if i%4==0:\n",
    "            l.append(10*i)\n",
    "        else:\n",
    "            l.append(i)\n",
    "    return l"
   ]
  },
  {
   "cell_type": "code",
   "execution_count": 8,
   "id": "b6b0f642",
   "metadata": {},
   "outputs": [
    {
     "data": {
      "text/plain": [
       "[1, 2, 3, 40, 5, 6, 7, 80, 9, 10, 11, 120, 13, 14, 15]"
      ]
     },
     "execution_count": 8,
     "metadata": {},
     "output_type": "execute_result"
    }
   ],
   "source": [
    "amplify(15)"
   ]
  },
  {
   "cell_type": "code",
   "execution_count": 15,
   "id": "03a385ec",
   "metadata": {},
   "outputs": [],
   "source": [
    "#q2 Create a function that takes a list of numbers and return the number that&#39;s unique.\n",
    "\n",
    "def uniqueno(n):\n",
    "\n",
    "    for i in n:\n",
    "        if n.count(i)==1:\n",
    "            return i"
   ]
  },
  {
   "cell_type": "code",
   "execution_count": 16,
   "id": "0658e72a",
   "metadata": {},
   "outputs": [
    {
     "data": {
      "text/plain": [
       "7"
      ]
     },
     "execution_count": 16,
     "metadata": {},
     "output_type": "execute_result"
    }
   ],
   "source": [
    "uniqueno([3, 3, 3, 7, 3, 3])"
   ]
  },
  {
   "cell_type": "code",
   "execution_count": 28,
   "id": "50638ec6",
   "metadata": {},
   "outputs": [],
   "source": [
    "#q3\n",
    "import math\n",
    "class circle:\n",
    "    def __init__(self,r):\n",
    "        self.r=r\n",
    "    def getarea(self):\n",
    "        return int(math.pi*pow(self.r,2))\n",
    "    def getperimeter(self):\n",
    "        return int(2*math.pi*self.r)\n",
    "    "
   ]
  },
  {
   "cell_type": "code",
   "execution_count": 29,
   "id": "184f5f5b",
   "metadata": {},
   "outputs": [
    {
     "name": "stdout",
     "output_type": "stream",
     "text": [
      "380\n",
      "27\n"
     ]
    }
   ],
   "source": [
    "circy=circle(11)\n",
    "print(circy.getarea())\n",
    "circy1=circle(4.44)\n",
    "print(circy1.getperimeter())\n"
   ]
  },
  {
   "cell_type": "code",
   "execution_count": 44,
   "id": "36ae782a",
   "metadata": {},
   "outputs": [],
   "source": [
    "#Q4\n",
    "def sortbylen(n):\n",
    "    d={}\n",
    "    l=[]\n",
    "    for i in n:\n",
    "        d[len(i)]=i\n",
    "   \n",
    "    key=sorted(list(d.keys()))\n",
    "    for i in key:\n",
    "        l.append(d[i])\n",
    "    return l\n",
    "        "
   ]
  },
  {
   "cell_type": "code",
   "execution_count": 45,
   "id": "5e703d5e",
   "metadata": {},
   "outputs": [
    {
     "data": {
      "text/plain": [
       "['Apple', 'Google', 'Microsoft']"
      ]
     },
     "execution_count": 45,
     "metadata": {},
     "output_type": "execute_result"
    }
   ],
   "source": [
    "sortbylen([\"Google\",\"Apple\",\"Microsoft\"])"
   ]
  },
  {
   "cell_type": "code",
   "execution_count": 51,
   "id": "013d4327",
   "metadata": {},
   "outputs": [],
   "source": [
    "#Q5\n",
    "def pythagoriantriplet(a,b,c):\n",
    "    if a>b and a>c:\n",
    "        if pow(a,2)==pow(b,2)+pow(c,2):\n",
    "            return True\n",
    "        else:\n",
    "            return False\n",
    "    elif b>a and b>c:\n",
    "        if pow(b,2)==pow(a,2)+pow(c,2):\n",
    "            return True\n",
    "        else:\n",
    "            return False\n",
    "    elif c>b and c>a:\n",
    "        if pow(c,2)==pow(b,2)+pow(a,2):\n",
    "            return True\n",
    "        else:\n",
    "            return False\n",
    "    else:\n",
    "        return False\n",
    "        \n",
    "        \n",
    "    "
   ]
  },
  {
   "cell_type": "code",
   "execution_count": 53,
   "id": "5aa8c4d6",
   "metadata": {},
   "outputs": [
    {
     "name": "stdout",
     "output_type": "stream",
     "text": [
      "True\n"
     ]
    }
   ],
   "source": [
    "print(pythagoriantriplet(13,5,12))"
   ]
  },
  {
   "cell_type": "code",
   "execution_count": null,
   "id": "0816f52c",
   "metadata": {},
   "outputs": [],
   "source": []
  }
 ],
 "metadata": {
  "kernelspec": {
   "display_name": "Python 3 (ipykernel)",
   "language": "python",
   "name": "python3"
  },
  "language_info": {
   "codemirror_mode": {
    "name": "ipython",
    "version": 3
   },
   "file_extension": ".py",
   "mimetype": "text/x-python",
   "name": "python",
   "nbconvert_exporter": "python",
   "pygments_lexer": "ipython3",
   "version": "3.9.7"
  }
 },
 "nbformat": 4,
 "nbformat_minor": 5
}
