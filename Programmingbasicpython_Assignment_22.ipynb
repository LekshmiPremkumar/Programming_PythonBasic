{
 "cells": [
  {
   "cell_type": "code",
   "execution_count": 1,
   "id": "c48b1fd0",
   "metadata": {},
   "outputs": [],
   "source": [
    "#Q1 list operation\n",
    "\n",
    "def list_operation(s,e,n):\n",
    "    l=[]\n",
    "    for i in range(s,e+1):\n",
    "        if i%n==0:\n",
    "            l.append(i)\n",
    "    return l\n",
    "    \n"
   ]
  },
  {
   "cell_type": "code",
   "execution_count": 2,
   "id": "92b11f90",
   "metadata": {},
   "outputs": [
    {
     "data": {
      "text/plain": [
       "[3, 6, 9]"
      ]
     },
     "execution_count": 2,
     "metadata": {},
     "output_type": "execute_result"
    }
   ],
   "source": [
    "list_operation(1, 10, 3)"
   ]
  },
  {
   "cell_type": "code",
   "execution_count": 4,
   "id": "3136ddcc",
   "metadata": {},
   "outputs": [
    {
     "data": {
      "text/plain": [
       "[]"
      ]
     },
     "execution_count": 4,
     "metadata": {},
     "output_type": "execute_result"
    }
   ],
   "source": [
    "list_operation(15, 20, 7)"
   ]
  },
  {
   "cell_type": "code",
   "execution_count": 25,
   "id": "87a77ea9",
   "metadata": {},
   "outputs": [],
   "source": [
    "#q2 simon_says([1, 2, 3, 4, 5], [0, 1, 2, 3, 4])#only checks if the second array is shifted one place to the right\n",
    "def simon_says(s1,s2):\n",
    "    if len(s1)!=len(s2) and len(s1)>=2 :\n",
    "        return \"Length os arrays not same or less than 2\"\n",
    "    f=0\n",
    "    for i in range(len(s1)-1):\n",
    "        if s1[i]!=s2[i+1]:\n",
    "            f=1\n",
    "    if f==0:\n",
    "        return True\n",
    "    elif f==1:\n",
    "        return False\n",
    "    \n",
    "        "
   ]
  },
  {
   "cell_type": "code",
   "execution_count": 30,
   "id": "419d3f23",
   "metadata": {},
   "outputs": [
    {
     "data": {
      "text/plain": [
       "True"
      ]
     },
     "execution_count": 30,
     "metadata": {},
     "output_type": "execute_result"
    }
   ],
   "source": [
    "simon_says([1, 2, 3, 4, 5],  [0,1,2, 3, 4])"
   ]
  },
  {
   "cell_type": "code",
   "execution_count": 5,
   "id": "7da8ba13",
   "metadata": {},
   "outputs": [],
   "source": [
    "#q3\n",
    "\n",
    "def secretname(n):\n",
    "    l=[]\n",
    "    for i in n:\n",
    "        l.append(i[0])\n",
    "    \n",
    "    return (\"\").join(sorted(l))\n",
    "        \n",
    "        "
   ]
  },
  {
   "cell_type": "code",
   "execution_count": 6,
   "id": "593920cc",
   "metadata": {},
   "outputs": [
    {
     "data": {
      "text/plain": [
       "'GMS'"
      ]
     },
     "execution_count": 6,
     "metadata": {},
     "output_type": "execute_result"
    }
   ],
   "source": [
    "secretname([\"Gita\",\"Sita\",\"Mita\"])"
   ]
  },
  {
   "cell_type": "code",
   "execution_count": 21,
   "id": "64957231",
   "metadata": {},
   "outputs": [],
   "source": [
    "#q4\n",
    "def isIsogram(n):\n",
    "    n=n.lower()\n",
    "    for i in range(len(n)):\n",
    "        if n.count(n[i])>1:\n",
    "            return False\n",
    "    return True\n",
    "    \n",
    "    "
   ]
  },
  {
   "cell_type": "code",
   "execution_count": 23,
   "id": "c504771b",
   "metadata": {},
   "outputs": [
    {
     "data": {
      "text/plain": [
       "True"
      ]
     },
     "execution_count": 23,
     "metadata": {},
     "output_type": "execute_result"
    }
   ],
   "source": [
    "isIsogram(\"Aleno\")"
   ]
  },
  {
   "cell_type": "code",
   "execution_count": 14,
   "id": "5b60f6d9",
   "metadata": {},
   "outputs": [],
   "source": [
    "#q5 is_in_order\n",
    "\n",
    "def isinOrder(n):\n",
    "    l=list(n)\n",
    "    f=0\n",
    "    for i in range(1,len(l)):\n",
    "        if ord(l[i-1])>ord(l[i]):\n",
    "            f=1\n",
    "    if f==0:\n",
    "        return True\n",
    "    else:\n",
    "        return False\n",
    "            "
   ]
  },
  {
   "cell_type": "code",
   "execution_count": 10,
   "id": "cad74e92",
   "metadata": {},
   "outputs": [
    {
     "data": {
      "text/plain": [
       "False"
      ]
     },
     "execution_count": 10,
     "metadata": {},
     "output_type": "execute_result"
    }
   ],
   "source": [
    "isinOrder(\"labc\")"
   ]
  },
  {
   "cell_type": "code",
   "execution_count": null,
   "id": "9df45859",
   "metadata": {},
   "outputs": [],
   "source": []
  }
 ],
 "metadata": {
  "kernelspec": {
   "display_name": "Python 3 (ipykernel)",
   "language": "python",
   "name": "python3"
  },
  "language_info": {
   "codemirror_mode": {
    "name": "ipython",
    "version": 3
   },
   "file_extension": ".py",
   "mimetype": "text/x-python",
   "name": "python",
   "nbconvert_exporter": "python",
   "pygments_lexer": "ipython3",
   "version": "3.9.7"
  }
 },
 "nbformat": 4,
 "nbformat_minor": 5
}
