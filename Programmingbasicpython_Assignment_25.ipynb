{
 "cells": [
  {
   "cell_type": "code",
   "execution_count": 4,
   "id": "4ab2c48e",
   "metadata": {},
   "outputs": [],
   "source": [
    "#q1\n",
    "\n",
    "def equal(a,b,c):\n",
    "    d={}\n",
    "    for i in [a,b,c]:\n",
    "        if i in d:\n",
    "            d[i]+=1\n",
    "        else:\n",
    "            d[i]=1\n",
    "    for i in d:\n",
    "        if d[i]>1:\n",
    "            return d[i]\n",
    "    "
   ]
  },
  {
   "cell_type": "code",
   "execution_count": 5,
   "id": "0ee57300",
   "metadata": {},
   "outputs": [
    {
     "data": {
      "text/plain": [
       "2"
      ]
     },
     "execution_count": 5,
     "metadata": {},
     "output_type": "execute_result"
    }
   ],
   "source": [
    "equal(3,2,3)"
   ]
  },
  {
   "cell_type": "code",
   "execution_count": 9,
   "id": "14996888",
   "metadata": {},
   "outputs": [],
   "source": [
    "def dicttolist(d):\n",
    "    l=[]\n",
    "    for i, j in d.items():\n",
    "        l.append((i,j))\n",
    "        \n",
    "    return l"
   ]
  },
  {
   "cell_type": "code",
   "execution_count": 10,
   "id": "c645b028",
   "metadata": {},
   "outputs": [
    {
     "data": {
      "text/plain": [
       "[('likes', 100), ('dislikes', 5), ('followers', 120)]"
      ]
     },
     "execution_count": 10,
     "metadata": {},
     "output_type": "execute_result"
    }
   ],
   "source": [
    "d= {\"likes\":100,\"dislikes\":5,\"followers\":120}\n",
    "dicttolist(d)"
   ]
  },
  {
   "cell_type": "code",
   "execution_count": 13,
   "id": "bbe1801c",
   "metadata": {},
   "outputs": [],
   "source": [
    "def mapping(n):\n",
    "    d={}\n",
    "    for i in n:\n",
    "        d[i]=i.upper()\n",
    "    return d\n"
   ]
  },
  {
   "cell_type": "code",
   "execution_count": 14,
   "id": "5cd135aa",
   "metadata": {},
   "outputs": [
    {
     "data": {
      "text/plain": [
       "{'j': 'J', 'k': 'K', 'l': 'L'}"
      ]
     },
     "execution_count": 14,
     "metadata": {},
     "output_type": "execute_result"
    }
   ],
   "source": [
    "d=[\"j\",\"k\",\"l\"]\n",
    "mapping(d)"
   ]
  },
  {
   "cell_type": "code",
   "execution_count": 15,
   "id": "4186525a",
   "metadata": {},
   "outputs": [],
   "source": [
    "#Write a function, that replaces all vowels in a string with a specified vowel\n",
    "\n",
    "def replacevowel(n,k):\n",
    "    l=list(n)\n",
    "    for i in range(len(l)):\n",
    "        if l[i] in[\"a\",\"e\",\"i\",\"o\",\"u\"]:\n",
    "            l[i]=k\n",
    "    return (\"\").join(l)\n",
    "            "
   ]
  },
  {
   "cell_type": "code",
   "execution_count": 16,
   "id": "15575acd",
   "metadata": {},
   "outputs": [
    {
     "data": {
      "text/plain": [
       "'staaaaarr'"
      ]
     },
     "execution_count": 16,
     "metadata": {},
     "output_type": "execute_result"
    }
   ],
   "source": [
    "replacevowel(\"staeiourr\",\"a\")"
   ]
  },
  {
   "cell_type": "code",
   "execution_count": 25,
   "id": "49ae76d7",
   "metadata": {},
   "outputs": [],
   "source": [
    "def asciiCapitalize(n):\n",
    "    l=n.split(\" \")\n",
    "    for i in range(len(l)):\n",
    "        k=list(l[i])\n",
    "        for j in range(len(k)):\n",
    "            if ord(k[j])%2==0:\n",
    "                k[j]=k[j].upper()\n",
    "            else:\n",
    "                k[j]=k[j].lower()\n",
    "                \n",
    "        l[i]=(\"\").join(k)\n",
    "    return (\" \").join(l)\n",
    "        "
   ]
  },
  {
   "cell_type": "code",
   "execution_count": 26,
   "id": "9ab05ffc",
   "metadata": {},
   "outputs": [
    {
     "data": {
      "text/plain": [
       "'THe LiTTLe meRmaiD'"
      ]
     },
     "execution_count": 26,
     "metadata": {},
     "output_type": "execute_result"
    }
   ],
   "source": [
    "asciiCapitalize(\"THE LITTLE MERMAID\")"
   ]
  },
  {
   "cell_type": "code",
   "execution_count": null,
   "id": "86d36a55",
   "metadata": {},
   "outputs": [],
   "source": []
  }
 ],
 "metadata": {
  "kernelspec": {
   "display_name": "Python 3 (ipykernel)",
   "language": "python",
   "name": "python3"
  },
  "language_info": {
   "codemirror_mode": {
    "name": "ipython",
    "version": 3
   },
   "file_extension": ".py",
   "mimetype": "text/x-python",
   "name": "python",
   "nbconvert_exporter": "python",
   "pygments_lexer": "ipython3",
   "version": "3.9.7"
  }
 },
 "nbformat": 4,
 "nbformat_minor": 5
}
