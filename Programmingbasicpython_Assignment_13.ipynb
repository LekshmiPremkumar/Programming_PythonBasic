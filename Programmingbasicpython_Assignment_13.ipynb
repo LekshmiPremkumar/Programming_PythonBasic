{
 "cells": [
  {
   "cell_type": "code",
   "execution_count": 18,
   "id": "fe7ca96c",
   "metadata": {},
   "outputs": [],
   "source": [
    "#1.program that calculates and prints the value\n",
    "import math\n",
    "\n",
    "def operation(D):\n",
    "    C,H=50,30\n",
    "\n",
    "    l=[]\n",
    "    for i in D:\n",
    "        y=math.sqrt(2*C*i/H)\n",
    "        l.append(int(y))\n",
    "    return l"
   ]
  },
  {
   "cell_type": "code",
   "execution_count": 19,
   "id": "b62ea503",
   "metadata": {},
   "outputs": [
    {
     "name": "stdout",
     "output_type": "stream",
     "text": [
      "The result of the operation is [18, 22, 24]\n"
     ]
    }
   ],
   "source": [
    "D=[100,150,180]\n",
    "print(f'The result of the operation is {operation(D)}')\n",
    "\n"
   ]
  },
  {
   "cell_type": "code",
   "execution_count": 22,
   "id": "e72e8697",
   "metadata": {},
   "outputs": [
    {
     "name": "stdout",
     "output_type": "stream",
     "text": [
      "Enter the row and column values - row,col 3,5\n"
     ]
    },
    {
     "data": {
      "text/plain": [
       "[[0, 0, 0, 0, 0], [0, 1, 2, 3, 4], [0, 2, 4, 6, 8]]"
      ]
     },
     "execution_count": 22,
     "metadata": {},
     "output_type": "execute_result"
    }
   ],
   "source": [
    "#2.matrix formation\n",
    "r,c=map(int,input(\"Enter the row and column values - row,col \").split(\",\"))\n",
    "\n",
    "[[i*j for j in range(c)] for i in range(r)]"
   ]
  },
  {
   "cell_type": "code",
   "execution_count": 23,
   "id": "12f4707e",
   "metadata": {},
   "outputs": [],
   "source": [
    "#3.Write a program that accepts a comma separated sequence of words as input and prints the\n",
    "#words in a comma-separated sequence after sorting them alphabetically.\n",
    "\n",
    "def sortalpha(l):\n",
    "    return sorted(l)"
   ]
  },
  {
   "cell_type": "code",
   "execution_count": 24,
   "id": "ca0494f7",
   "metadata": {},
   "outputs": [
    {
     "data": {
      "text/plain": [
       "['bag', 'hello', 'without', 'world']"
      ]
     },
     "execution_count": 24,
     "metadata": {},
     "output_type": "execute_result"
    }
   ],
   "source": [
    "l=['without','hello','bag','world']\n",
    "sortalpha(l)"
   ]
  },
  {
   "cell_type": "code",
   "execution_count": 32,
   "id": "6ed8bc84",
   "metadata": {},
   "outputs": [],
   "source": [
    "#4.Write a program that accepts a sequence of whitespace separated words as input and prints\n",
    "#the words after removing all duplicate words and sorting them alphanumerically.\n",
    "\n",
    "def sortalphaspaces(l):\n",
    "    y=l.split(\" \")\n",
    "    return sorted(set(y))\n",
    "\n",
    "    "
   ]
  },
  {
   "cell_type": "code",
   "execution_count": 34,
   "id": "7891e63b",
   "metadata": {},
   "outputs": [
    {
     "data": {
      "text/plain": [
       "['again', 'and', 'hello', 'makes', 'perfect', 'practice', 'world']"
      ]
     },
     "execution_count": 34,
     "metadata": {},
     "output_type": "execute_result"
    }
   ],
   "source": [
    "l=\"hello world and practice makes perfect and hello world again\"\n",
    "sortalphaspaces(l)"
   ]
  },
  {
   "cell_type": "code",
   "execution_count": 57,
   "id": "61292aca",
   "metadata": {},
   "outputs": [],
   "source": [
    "#5.Write a program that accepts a sentence and calculate the number of letters and digits\n",
    "\n",
    "def countalphanum(lis):\n",
    "    \n",
    "    i,d,l=0,0,0\n",
    "    while i<len(lis):\n",
    "\n",
    "        if lis[i].isnumeric():\n",
    "                d+=1\n",
    "        elif lis[i].isalpha():\n",
    "                l+=1\n",
    "        i+=1\n",
    "\n",
    "    return l,d"
   ]
  },
  {
   "cell_type": "code",
   "execution_count": 61,
   "id": "1519cb99",
   "metadata": {},
   "outputs": [
    {
     "name": "stdout",
     "output_type": "stream",
     "text": [
      "The number of letters is 10 and the number of digits is 3\n"
     ]
    }
   ],
   "source": [
    "ll=\"hello world! 123!@#$\"\n",
    "l,d= countalphanum(ll)\n",
    "print(f'The number of letters is {l} and the number of digits is {d}')\n"
   ]
  },
  {
   "cell_type": "code",
   "execution_count": 66,
   "id": "6b42d935",
   "metadata": {},
   "outputs": [],
   "source": [
    "#6.A website requires the users to input username and password to register. Write a program to\n",
    "#check the validity of password input by users.\n",
    "\n",
    "def validitypassword(n):\n",
    "    l=[]\n",
    "    for i in n:\n",
    "        y=list(i)\n",
    "        f1,f2,f3,f4=0,0,0,0\n",
    "        if len(y)>=6 and len(y)<=12:\n",
    "            for j in y:\n",
    "                if ord(j) in range(65,91):\n",
    "                    f1=1\n",
    "                elif ord(j) in range(97,123):\n",
    "                    f2=1\n",
    "                elif j.isnumeric():\n",
    "                    f3=1\n",
    "                elif j in [\"$\",\"#\",\"@\"]:\n",
    "                    f4=1\n",
    "            if f1==1 and f2==1 and f3==1 and f4==1:\n",
    "                l.append(i)\n",
    "    return l\n",
    "    \n",
    "    \n"
   ]
  },
  {
   "cell_type": "code",
   "execution_count": 69,
   "id": "312da7dd",
   "metadata": {},
   "outputs": [
    {
     "name": "stdout",
     "output_type": "stream",
     "text": [
      "List of valid passwords is ['ABd1234@1']\n"
     ]
    }
   ],
   "source": [
    "n=[\"ABd1234@1\",\"a F1#\",\"2w3E*\",\"2We3345\"]\n",
    "print(f'List of valid passwords is {validitypassword(n)}')"
   ]
  },
  {
   "cell_type": "code",
   "execution_count": null,
   "id": "dcf40d32",
   "metadata": {},
   "outputs": [],
   "source": []
  }
 ],
 "metadata": {
  "kernelspec": {
   "display_name": "Python 3 (ipykernel)",
   "language": "python",
   "name": "python3"
  },
  "language_info": {
   "codemirror_mode": {
    "name": "ipython",
    "version": 3
   },
   "file_extension": ".py",
   "mimetype": "text/x-python",
   "name": "python",
   "nbconvert_exporter": "python",
   "pygments_lexer": "ipython3",
   "version": "3.9.7"
  }
 },
 "nbformat": 4,
 "nbformat_minor": 5
}
