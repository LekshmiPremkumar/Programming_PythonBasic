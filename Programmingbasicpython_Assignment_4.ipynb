{
 "cells": [
  {
   "cell_type": "code",
   "execution_count": 11,
   "id": "245ab763",
   "metadata": {},
   "outputs": [],
   "source": [
    "#Python Program to Find the Factorial of a Number\n",
    "\n",
    "def fact(n):\n",
    "    if n<0:\n",
    "        return \"No factorial for -ve no.s\"\n",
    "    if n==0:\n",
    "        return 1\n",
    "    if n==1:\n",
    "        return 1\n",
    "    y=n*fact(n-1)\n",
    "    return y"
   ]
  },
  {
   "cell_type": "code",
   "execution_count": 12,
   "id": "692580e0",
   "metadata": {},
   "outputs": [
    {
     "name": "stdout",
     "output_type": "stream",
     "text": [
      "Enter the number 5\n"
     ]
    },
    {
     "data": {
      "text/plain": [
       "120"
      ]
     },
     "execution_count": 12,
     "metadata": {},
     "output_type": "execute_result"
    }
   ],
   "source": [
    "num=int(input(\"Enter the number \"))\n",
    "fact(num)"
   ]
  },
  {
   "cell_type": "code",
   "execution_count": 15,
   "id": "1d097374",
   "metadata": {},
   "outputs": [],
   "source": [
    "#Python Program to Display the multiplication Table\n",
    "\n",
    "def multiple(n,lim):\n",
    "    for i in range(1,lim+1):\n",
    "        print(f'{i} * {n} = {i*n}')\n",
    "    "
   ]
  },
  {
   "cell_type": "code",
   "execution_count": 17,
   "id": "9cbc244f",
   "metadata": {},
   "outputs": [
    {
     "name": "stdout",
     "output_type": "stream",
     "text": [
      "1 * 5 = 5\n",
      "2 * 5 = 10\n",
      "3 * 5 = 15\n",
      "4 * 5 = 20\n",
      "5 * 5 = 25\n",
      "6 * 5 = 30\n",
      "7 * 5 = 35\n",
      "8 * 5 = 40\n",
      "9 * 5 = 45\n",
      "10 * 5 = 50\n",
      "11 * 5 = 55\n",
      "12 * 5 = 60\n"
     ]
    }
   ],
   "source": [
    "#multiple of 5\n",
    "multiple(5,12)"
   ]
  },
  {
   "cell_type": "code",
   "execution_count": 29,
   "id": "cdcf8ac8",
   "metadata": {},
   "outputs": [],
   "source": [
    "#Python Program to Print the Fibonacci sequence\n",
    "\n",
    "def fib(n):\n",
    "    if n<0:\n",
    "        return \"no fibonacci sequence for -ve numbers \"\n",
    "    if n==0:\n",
    "        return 0\n",
    "    if n==1:\n",
    "        return 1\n",
    "    \n",
    "    y=fib(n-1)+fib(n-2)\n",
    "   \n",
    "    return y"
   ]
  },
  {
   "cell_type": "code",
   "execution_count": 27,
   "id": "a2296c62",
   "metadata": {},
   "outputs": [
    {
     "data": {
      "text/plain": [
       "34"
      ]
     },
     "execution_count": 27,
     "metadata": {},
     "output_type": "execute_result"
    }
   ],
   "source": [
    "fib(9)"
   ]
  },
  {
   "cell_type": "code",
   "execution_count": 33,
   "id": "ee1afdef",
   "metadata": {},
   "outputs": [],
   "source": [
    "l=[]\n",
    "def fibseq(n):\n",
    "    for i in range(n+1):\n",
    "        l.append(fib(i))\n",
    "    print(l)"
   ]
  },
  {
   "cell_type": "code",
   "execution_count": 34,
   "id": "384c3a3b",
   "metadata": {},
   "outputs": [
    {
     "name": "stdout",
     "output_type": "stream",
     "text": [
      "[0, 1, 1, 2, 3, 5, 8, 13, 21, 34]\n"
     ]
    }
   ],
   "source": [
    "#fibonacci sequence\n",
    "fibseq(9)"
   ]
  },
  {
   "cell_type": "code",
   "execution_count": 87,
   "id": "a3af1c48",
   "metadata": {},
   "outputs": [],
   "source": [
    "#Python Program to Check Armstrong Number\n",
    "\n",
    "def armstrongnumber(n):\n",
    "    num=n\n",
    "    l=len(str(num))\n",
    "    s=0\n",
    "    while n!=0:\n",
    "        s=s+pow((n%10),l)\n",
    "        n=n//10\n",
    "        \n",
    "    if s==num:\n",
    "        return \"The number is an Armstrong Number\"\n",
    "    else:\n",
    "        return \"The number is not an Armstrong Number\""
   ]
  },
  {
   "cell_type": "code",
   "execution_count": 88,
   "id": "0421661f",
   "metadata": {},
   "outputs": [
    {
     "name": "stdout",
     "output_type": "stream",
     "text": [
      "Enter the number 8208\n"
     ]
    },
    {
     "data": {
      "text/plain": [
       "'The number is an Armstrong Number'"
      ]
     },
     "execution_count": 88,
     "metadata": {},
     "output_type": "execute_result"
    }
   ],
   "source": [
    "num=int(input(\"Enter the number \"))\n",
    "armstrongnumber(num)"
   ]
  },
  {
   "cell_type": "code",
   "execution_count": 93,
   "id": "0f8fce18",
   "metadata": {},
   "outputs": [],
   "source": [
    "#Python Program to Find Armstrong Number in an Interval\n",
    "def findarmstrongnumber(n):\n",
    "    num=n\n",
    "    l=len(str(num))\n",
    "    s=0\n",
    "    while n!=0:\n",
    "        s=s+pow((n%10),l)\n",
    "        n=n//10\n",
    "        \n",
    "    if s==num:\n",
    "        return s,1\n",
    "    else:\n",
    "        return s,0\n",
    "\n",
    "def armstrong_list(start,end):\n",
    "    l=[]\n",
    "    for i in range(start,end+1):\n",
    "        y=findarmstrongnumber(i)\n",
    "        if y[1]==1:\n",
    "            l.append(y[0])\n",
    "    print(l)\n",
    "\n",
    "        \n",
    "    \n"
   ]
  },
  {
   "cell_type": "code",
   "execution_count": 92,
   "id": "0f2271b8",
   "metadata": {},
   "outputs": [
    {
     "name": "stdout",
     "output_type": "stream",
     "text": [
      "Enter the range separated by coma 1,10000\n",
      "[1, 2, 3, 4, 5, 6, 7, 8, 9, 153, 370, 371, 407, 1634, 8208, 9474]\n"
     ]
    }
   ],
   "source": [
    "\n",
    "start,end=map(int,(input(\"Enter the range separated by coma \")).split(\",\"))\n",
    "armstrong_list(start,end)"
   ]
  },
  {
   "cell_type": "code",
   "execution_count": 95,
   "id": "335ad191",
   "metadata": {},
   "outputs": [],
   "source": [
    "#python Program to Find the Sum of Natural Numbers\n",
    "\n",
    "def naturalSum(n):\n",
    "    s=0\n",
    "    for i in range(1,n+1):\n",
    "        s=s+i\n",
    "    return s\n"
   ]
  },
  {
   "cell_type": "code",
   "execution_count": 97,
   "id": "cbf891d5",
   "metadata": {},
   "outputs": [
    {
     "name": "stdout",
     "output_type": "stream",
     "text": [
      "Enter the number 5\n",
      " The sum of all natural number till 5 is 15\n"
     ]
    }
   ],
   "source": [
    "num=int(input(\"Enter the number \"))\n",
    "print(f'Sum of all natural number till {num} is {naturalSum(num)}')"
   ]
  },
  {
   "cell_type": "code",
   "execution_count": null,
   "id": "d1594fbd",
   "metadata": {},
   "outputs": [],
   "source": []
  }
 ],
 "metadata": {
  "kernelspec": {
   "display_name": "Python 3 (ipykernel)",
   "language": "python",
   "name": "python3"
  },
  "language_info": {
   "codemirror_mode": {
    "name": "ipython",
    "version": 3
   },
   "file_extension": ".py",
   "mimetype": "text/x-python",
   "name": "python",
   "nbconvert_exporter": "python",
   "pygments_lexer": "ipython3",
   "version": "3.9.7"
  }
 },
 "nbformat": 4,
 "nbformat_minor": 5
}
