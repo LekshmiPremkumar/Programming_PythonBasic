{
 "cells": [
  {
   "cell_type": "code",
   "execution_count": 2,
   "id": "476a9b41",
   "metadata": {},
   "outputs": [],
   "source": [
    "#Write a Python program to find sum of elements in list\n",
    "\n",
    "def list_sum(l):\n",
    "    s=0\n",
    "    for i in l:\n",
    "        s+=i\n",
    "    return s\n"
   ]
  },
  {
   "cell_type": "code",
   "execution_count": 3,
   "id": "b96de6c8",
   "metadata": {},
   "outputs": [
    {
     "name": "stdout",
     "output_type": "stream",
     "text": [
      "Sum of list elements is 21\n"
     ]
    }
   ],
   "source": [
    "l=[1,2,3,4,5,6]\n",
    "print(f'Sum of list elements is {list_sum(l)}')"
   ]
  },
  {
   "cell_type": "code",
   "execution_count": 4,
   "id": "5a7f68c4",
   "metadata": {},
   "outputs": [],
   "source": [
    "#Python program to Multiply all numbers in the list\n",
    "def list_mult(l):\n",
    "    s=1\n",
    "    for i in l:\n",
    "        s*=i\n",
    "    return s"
   ]
  },
  {
   "cell_type": "code",
   "execution_count": 5,
   "id": "333c7869",
   "metadata": {},
   "outputs": [
    {
     "name": "stdout",
     "output_type": "stream",
     "text": [
      "product of list elements is 720\n"
     ]
    }
   ],
   "source": [
    "l=[1,2,3,4,5,6]\n",
    "print(f'product of list elements is {list_mult(l)}')"
   ]
  },
  {
   "cell_type": "code",
   "execution_count": 6,
   "id": "8d2cd911",
   "metadata": {},
   "outputs": [],
   "source": [
    "#Write a Python program to find smallest number in a list\n",
    "\n",
    "def list_min(l):\n",
    "    min=l[0]\n",
    "    for i in l:\n",
    "        if min>i:\n",
    "            min=i\n",
    "            \n",
    "    return min\n"
   ]
  },
  {
   "cell_type": "code",
   "execution_count": 9,
   "id": "1659ed51",
   "metadata": {},
   "outputs": [
    {
     "name": "stdout",
     "output_type": "stream",
     "text": [
      "Smallest list element is -3\n"
     ]
    }
   ],
   "source": [
    "l=[7,1,2,-3,4,5,6]\n",
    "print(f'Smallest list element is {list_min(l)}')"
   ]
  },
  {
   "cell_type": "code",
   "execution_count": 10,
   "id": "9ba6e43e",
   "metadata": {},
   "outputs": [],
   "source": [
    "#Write a Python program to find largest number in a list\n",
    "def list_max(l):\n",
    "    max=l[0]\n",
    "    for i in l:\n",
    "        if max<i:\n",
    "            max=i\n",
    "            \n",
    "    return max"
   ]
  },
  {
   "cell_type": "code",
   "execution_count": 12,
   "id": "95ee035a",
   "metadata": {},
   "outputs": [
    {
     "name": "stdout",
     "output_type": "stream",
     "text": [
      "Largest list element is 44\n"
     ]
    }
   ],
   "source": [
    "l=[7,1,2,-3,44,5,6]\n",
    "print(f'Largest list element is {list_max(l)}')"
   ]
  },
  {
   "cell_type": "code",
   "execution_count": 99,
   "id": "e0f4218e",
   "metadata": {},
   "outputs": [],
   "source": [
    "#Python program to find second largest number in a list\n",
    "\n",
    "def list_max2(l,n):\n",
    "    for i in range(len(l)):\n",
    "        for j in range(i+1,len(l)):\n",
    "            if l[i]<l[j]:\n",
    "                t=l[i]\n",
    "                l[i]=l[j]\n",
    "                l[j]=t\n",
    "        \n",
    "            \n",
    "    return l[n-1]\n"
   ]
  },
  {
   "cell_type": "code",
   "execution_count": 104,
   "id": "c1ddee7b",
   "metadata": {},
   "outputs": [
    {
     "name": "stdout",
     "output_type": "stream",
     "text": [
      "Enter the position of the largest number to be printed from a list 2\n",
      "Largest number in position 2 is 43\n"
     ]
    }
   ],
   "source": [
    "l=[7,1,2,43,44,5,6]\n",
    "n=int(input(\"Enter the position of the largest number to be printed from a list \"))\n",
    "print(f'Largest number in position {n} is {list_max2(l,n)}')"
   ]
  },
  {
   "cell_type": "code",
   "execution_count": 105,
   "id": "23375ff7",
   "metadata": {},
   "outputs": [],
   "source": [
    "#Python program to find N largest elements from a list\n",
    "def list_printmaxN(l,n):\n",
    "    for i in range(len(l)):\n",
    "        for j in range(i+1,len(l)):\n",
    "            if l[i]<l[j]:\n",
    "                t=l[i]\n",
    "                l[i]=l[j]\n",
    "                l[j]=t\n",
    "        \n",
    "            \n",
    "    return l[:n]"
   ]
  },
  {
   "cell_type": "code",
   "execution_count": 107,
   "id": "e1a9f012",
   "metadata": {},
   "outputs": [
    {
     "name": "stdout",
     "output_type": "stream",
     "text": [
      "Enter the no. of largest number to be printed from a list 5\n",
      "Largest number in position 2 is [44, 43, 7, 6, 5]\n"
     ]
    }
   ],
   "source": [
    "l=[7,1,2,43,44,5,6]\n",
    "N=int(input(\"Enter the no. of largest number to be printed from a list \"))\n",
    "print(f'Largest number in position {n} is {list_printmaxN(l,N)}')"
   ]
  },
  {
   "cell_type": "code",
   "execution_count": 20,
   "id": "549177df",
   "metadata": {},
   "outputs": [],
   "source": [
    "#Python program to print even numbers in a list\n",
    "def list_even(l):\n",
    "    s=[]\n",
    "    for i in l:\n",
    "        if i%2==0:\n",
    "            s.append(i)\n",
    "    return s\n"
   ]
  },
  {
   "cell_type": "code",
   "execution_count": 15,
   "id": "3b08a43e",
   "metadata": {},
   "outputs": [
    {
     "name": "stdout",
     "output_type": "stream",
     "text": [
      "Even no.s in list are [2, 44, 6]\n"
     ]
    }
   ],
   "source": [
    "l=[7,1,2,-3,44,5,6]\n",
    "print(f'Even no.s in list are {list_even(l)}')"
   ]
  },
  {
   "cell_type": "code",
   "execution_count": 17,
   "id": "57efe8ad",
   "metadata": {},
   "outputs": [],
   "source": [
    "#Python program to print odd numbers in a list\n",
    "def list_odd(l):\n",
    "    s=[]\n",
    "    for i in l:\n",
    "        if i%2!=0:\n",
    "            s.append(i)\n",
    "    return s"
   ]
  },
  {
   "cell_type": "code",
   "execution_count": 19,
   "id": "6c62c058",
   "metadata": {},
   "outputs": [
    {
     "name": "stdout",
     "output_type": "stream",
     "text": [
      "Even no.s in list are [7, 1, 3, 5]\n"
     ]
    }
   ],
   "source": [
    "l=[7,1,2,3,44,5,6]\n",
    "print(f'Even no.s in list are {list_odd(l)}')"
   ]
  },
  {
   "cell_type": "code",
   "execution_count": 58,
   "id": "2764682b",
   "metadata": {},
   "outputs": [],
   "source": [
    "#a Python program to Remove empty List from List\n",
    "def rem_emptylist(l):\n",
    "    for i in l:\n",
    "        if type(i)==list:\n",
    "    \n",
    "            if len(i)==0:\n",
    "                l.remove(i)\n",
    "    return l"
   ]
  },
  {
   "cell_type": "code",
   "execution_count": 61,
   "id": "1f8f4926",
   "metadata": {},
   "outputs": [
    {
     "name": "stdout",
     "output_type": "stream",
     "text": [
      "List after removing empty lists  [[2, 3], [2, 5], 3, 4]\n"
     ]
    }
   ],
   "source": [
    "\n",
    "l=[[2,3],[],[2,5],[],3,4]\n",
    "print(f'List after removing empty lists  {rem_emptylist(l)}')"
   ]
  },
  {
   "cell_type": "code",
   "execution_count": 90,
   "id": "fed1f26f",
   "metadata": {},
   "outputs": [],
   "source": [
    "#Python program to Cloning or Copying a list\n",
    "def copy_list(n):\n",
    "    return l.copy()\n",
    "\n",
    "def copy_list2(n):\n",
    "    ll=[]\n",
    "    for i in n:\n",
    "        ll.append(i)\n",
    "    return ll\n",
    "    "
   ]
  },
  {
   "cell_type": "code",
   "execution_count": 91,
   "id": "39394643",
   "metadata": {},
   "outputs": [
    {
     "name": "stdout",
     "output_type": "stream",
     "text": [
      "The cloned/copied list, S is [[2, 3], [], [2, 5], [], 3, 4]\n"
     ]
    }
   ],
   "source": [
    "l=[[2,3],[],[2,5],[],3,4]\n",
    "S=copy_list(l)\n",
    "print(f'The cloned/copied list, S is {S}')\n",
    "\n"
   ]
  },
  {
   "cell_type": "code",
   "execution_count": 92,
   "id": "4ba8cac5",
   "metadata": {},
   "outputs": [
    {
     "name": "stdout",
     "output_type": "stream",
     "text": [
      "The cloned/copied list, y is [[2, 3], [], [2, 5], [], 3, 4]\n"
     ]
    }
   ],
   "source": [
    "l=[[2,3],[],[2,5],[],3,4]\n",
    "y=copy_list2(l)\n",
    "print(f'The cloned/copied list, y is {y}')"
   ]
  },
  {
   "cell_type": "code",
   "execution_count": 86,
   "id": "45af5f84",
   "metadata": {},
   "outputs": [],
   "source": [
    "#Python program to Count occurrences of an element in a list\n",
    "\n",
    "\n",
    "def countcheck(l,num):\n",
    "    d={}\n",
    "\n",
    "    for i in l:\n",
    "        if i in d:\n",
    "            d[i]+=1\n",
    "        else:\n",
    "            d[i]=1\n",
    "    if num in d:\n",
    "        return d[num]\n",
    "    else:\n",
    "        return 0\n",
    "    \n"
   ]
  },
  {
   "cell_type": "code",
   "execution_count": 81,
   "id": "732b71a3",
   "metadata": {},
   "outputs": [
    {
     "name": "stdout",
     "output_type": "stream",
     "text": [
      "Enter the number to be searched 5\n",
      "no. of occurrence of 5 in  list is 12\n"
     ]
    }
   ],
   "source": [
    "import random\n",
    "l=[random.randint(1,10) for i in range(100)]\n",
    "num=int(input(\"Enter the number to be searched \"))\n",
    "print(f'no. of occurrence of {num} in  list is {countcheck(l,num)}')"
   ]
  },
  {
   "cell_type": "code",
   "execution_count": null,
   "id": "84b852f4",
   "metadata": {},
   "outputs": [],
   "source": []
  }
 ],
 "metadata": {
  "kernelspec": {
   "display_name": "Python 3 (ipykernel)",
   "language": "python",
   "name": "python3"
  },
  "language_info": {
   "codemirror_mode": {
    "name": "ipython",
    "version": 3
   },
   "file_extension": ".py",
   "mimetype": "text/x-python",
   "name": "python",
   "nbconvert_exporter": "python",
   "pygments_lexer": "ipython3",
   "version": "3.9.7"
  }
 },
 "nbformat": 4,
 "nbformat_minor": 5
}
